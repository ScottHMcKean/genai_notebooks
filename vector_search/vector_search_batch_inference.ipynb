{
 "cells": [
  {
   "cell_type": "markdown",
   "metadata": {
    "application/vnd.databricks.v1+cell": {
     "cellMetadata": {},
     "inputWidgets": {},
     "nuid": "c7b5442b-f379-4bc9-ac51-00ef8c0344b5",
     "showTitle": false,
     "tableResultSettingsMap": {},
     "title": ""
    }
   },
   "source": [
    "This notebook provides an example of using vector search directly in Batch inference. It works with serverless."
   ]
  },
  {
   "cell_type": "code",
   "execution_count": 0,
   "metadata": {
    "application/vnd.databricks.v1+cell": {
     "cellMetadata": {
      "byteLimit": 2048000,
      "rowLimit": 10000
     },
     "inputWidgets": {},
     "nuid": "951046e0-08a2-4287-bcdc-65b8ee590ca6",
     "showTitle": false,
     "tableResultSettingsMap": {},
     "title": ""
    }
   },
   "outputs": [],
   "source": [
    "%pip install databricks-vectorsearch\n",
    "%restart_python"
   ]
  },
  {
   "cell_type": "markdown",
   "metadata": {
    "application/vnd.databricks.v1+cell": {
     "cellMetadata": {},
     "inputWidgets": {},
     "nuid": "1acadedc-4ce3-4e26-bd34-27b1bd93b75f",
     "showTitle": false,
     "tableResultSettingsMap": {},
     "title": ""
    }
   },
   "source": [
    "This assumed you already have a vector searchi ndex"
   ]
  },
  {
   "cell_type": "code",
   "execution_count": 0,
   "metadata": {
    "application/vnd.databricks.v1+cell": {
     "cellMetadata": {
      "byteLimit": 2048000,
      "implicitDf": true,
      "rowLimit": 10000
     },
     "inputWidgets": {},
     "nuid": "e09b748c-8cf7-4598-aafe-57540c5dd7b8",
     "showTitle": false,
     "tableResultSettingsMap": {},
     "title": ""
    }
   },
   "outputs": [],
   "source": [
    "%sql\n",
    "SELECT * FROM vector_search(\n",
    "  index => 'shm.marketing.campaigns_fixed_index',\n",
    "  query_text => \"viking_ranges\",\n",
    "  num_results => 3\n",
    ")"
   ]
  },
  {
   "cell_type": "code",
   "execution_count": 0,
   "metadata": {
    "application/vnd.databricks.v1+cell": {
     "cellMetadata": {
      "byteLimit": 2048000,
      "implicitDf": true,
      "rowLimit": 10000
     },
     "inputWidgets": {},
     "nuid": "e0503eb9-0798-48c8-9c4a-1d81eed08844",
     "showTitle": false,
     "tableResultSettingsMap": {},
     "title": ""
    }
   },
   "outputs": [],
   "source": [
    "%sql\n",
    "-- Vector search\n",
    "SELECT\n",
    "  STRING(\n",
    "    COLLECT_LIST(\n",
    "      CONCAT(\n",
    "        'campaign: ', template, '\\n'\n",
    "        'title:', title, '\\n', \n",
    "        'name: ', campaign_name, '\\n',\n",
    "        'description: ', campaign_description, '\\n\\n'\n",
    "      )\n",
    "    )\n",
    "  ) AS similarity_search\n",
    "FROM vector_search(\n",
    "  index => 'shm.marketing.campaigns_fixed_index',\n",
    "  query_text => 'viking ranges',\n",
    "  num_results => 3\n",
    ")"
   ]
  },
  {
   "cell_type": "code",
   "execution_count": 0,
   "metadata": {
    "application/vnd.databricks.v1+cell": {
     "cellMetadata": {
      "byteLimit": 2048000,
      "rowLimit": 10000
     },
     "inputWidgets": {},
     "nuid": "acba04bc-c796-4b22-9af4-db610a61a47c",
     "showTitle": false,
     "tableResultSettingsMap": {},
     "title": ""
    }
   },
   "outputs": [],
   "source": [
    "prompt = \"\"\"Act as a marketing expert. Summarize the evocativeness of these campaigns on a scale of 1 to 5, with 5 being the most evocative and provide an critique for improving them. Return a json output.\n",
    "\n",
    "Output format: \n",
    "{'evocativeness': 3, 'critique': Needs to focus on better structure and emotional content}\n",
    "\"\"\""
   ]
  },
  {
   "cell_type": "code",
   "execution_count": 0,
   "metadata": {
    "application/vnd.databricks.v1+cell": {
     "cellMetadata": {
      "byteLimit": 2048000,
      "rowLimit": 10000
     },
     "inputWidgets": {},
     "nuid": "e6b2b629-fba1-4d5f-a799-d1a99f9bea30",
     "showTitle": false,
     "tableResultSettingsMap": {},
     "title": ""
    }
   },
   "outputs": [],
   "source": [
    "# Setup widgets to parameterize sql\n",
    "dbutils.widgets.text(\"prompt\", f\"{prompt}\", \"Prompt\")"
   ]
  },
  {
   "cell_type": "code",
   "execution_count": 0,
   "metadata": {
    "application/vnd.databricks.v1+cell": {
     "cellMetadata": {
      "byteLimit": 2048000,
      "implicitDf": true,
      "rowLimit": 10000
     },
     "inputWidgets": {},
     "nuid": "bf2bdbbc-3726-4323-a1c6-1ba2c8423f41",
     "showTitle": false,
     "tableResultSettingsMap": {},
     "title": ""
    }
   },
   "outputs": [],
   "source": [
    "%sql\n",
    "CREATE OR REPLACE FUNCTION shm.marketing.campaigns_vector_search(\n",
    "  query STRING\n",
    "  )\n",
    "  RETURNS STRING\n",
    "  LANGUAGE SQL\n",
    "  COMMENT 'This function returns matching campaigns' \n",
    "  RETURN \n",
    "    SELECT\n",
    "      STRING(\n",
    "        COLLECT_LIST(\n",
    "          CONCAT(\n",
    "            'campaign: ', template, '\\n'\n",
    "            'title:', title, '\\n', \n",
    "            'name: ', campaign_name, '\\n',\n",
    "            'description: ', campaign_description, '\\n\\n'\n",
    "          )\n",
    "        )\n",
    "      ) AS similarity_search\n",
    "    FROM vector_search(\n",
    "      index => 'shm.marketing.campaigns_fixed_index',\n",
    "      query_text => query,\n",
    "      num_results => 3,\n",
    "      query_type => 'hybrid'\n",
    "    )"
   ]
  },
  {
   "cell_type": "code",
   "execution_count": 0,
   "metadata": {
    "application/vnd.databricks.v1+cell": {
     "cellMetadata": {
      "byteLimit": 2048000,
      "implicitDf": true,
      "rowLimit": 10000
     },
     "inputWidgets": {},
     "nuid": "f55d3340-8062-4fa1-8880-33a24e8fd6db",
     "showTitle": false,
     "tableResultSettingsMap": {},
     "title": ""
    }
   },
   "outputs": [],
   "source": [
    "%sql\n",
    "CREATE OR REPLACE TABLE shm.marketing.products_pred_vector_search AS\n",
    "SELECT\n",
    "  product_id,\n",
    "  AI_QUERY(\n",
    "    'databricks-meta-llama-3-3-70b-instruct',\n",
    "    CONCAT(\n",
    "      :prompt, '\\n',\n",
    "      COALESCE(shm.marketing.campaigns_vector_search(title),''), '\\n'\n",
    "      ),\n",
    "    responseFormat => '{\n",
    "      \"type\": \"json_schema\",\n",
    "      \"json_schema\": {\n",
    "        \"name\": \"categorization\",\n",
    "        \"schema\": {\n",
    "          \"type\": \"object\",\n",
    "          \"properties\": {\n",
    "            \"evocativeness\": {\"type\": \"number\"},\n",
    "            \"critique\": {\"type\": \"string\"}\n",
    "          }\n",
    "        }\n",
    "      }\n",
    "    }'\n",
    "  ) AS llm_output\n",
    "FROM shm.marketing.products_sample\n",
    "LIMIT 1"
   ]
  }
 ],
 "metadata": {
  "application/vnd.databricks.v1+notebook": {
   "computePreferences": null,
   "dashboards": [],
   "environmentMetadata": {
    "base_environment": "",
    "environment_version": "2"
   },
   "inputWidgetPreferences": null,
   "language": "python",
   "notebookMetadata": {
    "mostRecentlyExecutedCommandWithImplicitDF": {
     "commandId": 3656236635286566,
     "dataframes": [
      "_sqldf"
     ]
    },
    "pythonIndentUnit": 2
   },
   "notebookName": "vector_search_batch_inference",
   "widgets": {
    "prompt": {
     "currentValue": "Act as a marketing expert. Summarize the evocativeness of these campaigns on a scale of 1 to 5, with 5 being the most evocative and provide an critique for improving them. Return a json output.\n\nOutput format: \n{'evocativeness': 3, 'critique': Needs to focus on better structure and emotional content}\n",
     "nuid": "1edd136c-24d8-41bc-905e-76c6154345b9",
     "typedWidgetInfo": {
      "autoCreated": false,
      "defaultValue": "Act as a marketing expert. Summarize the evocativeness of these campaigns on a scale of 1 to 5, with 5 being the most evocative and provide an critique for improving them. Return a json output.\n\nOutput format: \n{'evocativeness': 3, 'critique': Needs to focus on better structure and emotional content}\n",
      "label": "Prompt",
      "name": "prompt",
      "options": {
       "widgetDisplayType": "Text",
       "validationRegex": null
      },
      "parameterDataType": "String"
     },
     "widgetInfo": {
      "widgetType": "text",
      "defaultValue": "Act as a marketing expert. Summarize the evocativeness of these campaigns on a scale of 1 to 5, with 5 being the most evocative and provide an critique for improving them. Return a json output.\n\nOutput format: \n{'evocativeness': 3, 'critique': Needs to focus on better structure and emotional content}\n",
      "label": "Prompt",
      "name": "prompt",
      "options": {
       "widgetType": "text",
       "autoCreated": null,
       "validationRegex": null
      }
     }
    }
   }
  },
  "language_info": {
   "name": "python"
  }
 },
 "nbformat": 4,
 "nbformat_minor": 0
}
