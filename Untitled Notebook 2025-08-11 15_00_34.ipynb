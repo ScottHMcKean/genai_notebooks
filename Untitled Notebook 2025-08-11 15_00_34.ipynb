{
 "cells": [
  {
   "cell_type": "code",
   "execution_count": 0,
   "metadata": {
    "application/vnd.databricks.v1+cell": {
     "cellMetadata": {},
     "inputWidgets": {},
     "nuid": "a8fcf588-84ae-48bd-a451-46be18d05d37",
     "showTitle": false,
     "tableResultSettingsMap": {},
     "title": ""
    }
   },
   "outputs": [],
   "source": [
    "from openai import OpenAI\n",
    "from databricks.sdk import WorkspaceClient\n",
    "\n",
    "w = WorkspaceClient()\n",
    "client = w.serving_endpoints.get_open_ai_client()\n",
    "\n",
    "doc = \"Databricks Policy for use of Third-Party AI Services \n",
    "\"\n",
    "\n",
    "prompt = f\"\"\"Answer based only on the document.\n",
    "Document:\n",
    "{doc}\n",
    "Can customer data be stored unencrypted under any condition?\"\"\"\n",
    "\n",
    "resp = client.chat.completions.create(\n",
    "    model=\"databricks-gpt-oss-20b\",\n",
    "    messages=[{\"role\": \"user\", \"content\": prompt}],\n",
    "    reasoning_effort=\"medium\"\n",
    ")\n",
    "\n",
    "print(resp.choices[0].message.content)"
   ]
  }
 ],
 "metadata": {
  "application/vnd.databricks.v1+notebook": {
   "computePreferences": {
    "hardware": {
     "accelerator": null,
     "gpuPoolId": null,
     "memory": null
    }
   },
   "dashboards": [],
   "environmentMetadata": {
    "base_environment": "",
    "environment_version": "2"
   },
   "inputWidgetPreferences": null,
   "language": "python",
   "notebookMetadata": {
    "pythonIndentUnit": 2
   },
   "notebookName": "Untitled Notebook 2025-08-11 15_00_34",
   "widgets": {}
  },
  "language_info": {
   "name": "python"
  }
 },
 "nbformat": 4,
 "nbformat_minor": 0
}
