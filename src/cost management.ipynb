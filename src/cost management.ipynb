{
 "cells": [
  {
   "cell_type": "code",
   "execution_count": 0,
   "metadata": {
    "application/vnd.databricks.v1+cell": {
     "cellMetadata": {
      "byteLimit": 2048000,
      "implicitDf": true,
      "rowLimit": 10000
     },
     "inputWidgets": {},
     "nuid": "9d0c00fe-2459-4a8e-8577-f1da5d33d32f",
     "showTitle": false,
     "tableResultSettingsMap": {},
     "title": ""
    }
   },
   "outputs": [],
   "source": [
    "%sql\n",
    "SELECT \n",
    "  get_json_object(response, '$.usage.prompt_tokens') AS prompt_tokens,\n",
    "  get_json_object(response, '$.usage.completion_tokens') AS completion_tokens,\n",
    "  get_json_object(response, '$.usage.total_tokens') AS total_tokens\n",
    "FROM shm.marketing.marketing_agent_payload"
   ]
  },
  {
   "cell_type": "code",
   "execution_count": 0,
   "metadata": {
    "application/vnd.databricks.v1+cell": {
     "cellMetadata": {
      "byteLimit": 2048000,
      "rowLimit": 10000
     },
     "inputWidgets": {},
     "nuid": "f4bb6e29-4db2-4c3d-9930-5088ae19a9d6",
     "showTitle": false,
     "tableResultSettingsMap": {},
     "title": ""
    }
   },
   "outputs": [],
   "source": [
    "from pyspark.sql.functions import udf\n",
    "from pyspark.sql.types import IntegerType\n",
    "import json\n",
    "\n",
    "df = spark.table('shm.marketing.marketing_agent_payload')\n",
    "\n",
    "@udf(IntegerType())\n",
    "def extract_total_tokens(json_str):\n",
    "    try:\n",
    "        data = json.loads(json_str)\n",
    "        # Recursively find all 'usage' dicts and sum 'total_tokens'\n",
    "        def find_usages(obj):\n",
    "            usages = []\n",
    "            if isinstance(obj, dict):\n",
    "                if 'usage' in obj and 'total_tokens' in obj['usage']:\n",
    "                    usages.append(obj['usage']['total_tokens'])\n",
    "                for v in obj.values():\n",
    "                    usages.extend(find_usages(v))\n",
    "            elif isinstance(obj, list):\n",
    "                for item in obj:\n",
    "                    usages.extend(find_usages(item))\n",
    "            return usages\n",
    "        return sum(find_usages(data))\n",
    "    except Exception:\n",
    "        return None\n",
    "\n",
    "# Register and use the UDF\n",
    "df = df.sample(1).withColumn(\"total_tokens\", extract_total_tokens(df.response))\n",
    "display(df.select('total_tokens'))"
   ]
  },
  {
   "cell_type": "code",
   "execution_count": 0,
   "metadata": {
    "application/vnd.databricks.v1+cell": {
     "cellMetadata": {
      "byteLimit": 2048000,
      "rowLimit": 10000
     },
     "inputWidgets": {},
     "nuid": "ec9acb04-b3dd-4b41-8198-29055344c479",
     "showTitle": false,
     "tableResultSettingsMap": {},
     "title": ""
    }
   },
   "outputs": [],
   "source": [
    "response_str = df.limit(1).collect()[0].asDict()['response']\n",
    "data = json.loads(response_str)"
   ]
  },
  {
   "cell_type": "code",
   "execution_count": 0,
   "metadata": {
    "application/vnd.databricks.v1+cell": {
     "cellMetadata": {
      "byteLimit": 2048000,
      "rowLimit": 10000
     },
     "inputWidgets": {},
     "nuid": "e9df4f17-6451-435e-9efa-af343d658db8",
     "showTitle": false,
     "tableResultSettingsMap": {},
     "title": ""
    }
   },
   "outputs": [],
   "source": [
    "def extract_total_tokens(data):\n",
    "    try:\n",
    "        # Recursively find all 'usage' dicts and sum 'total_tokens'\n",
    "        def find_usages(obj):\n",
    "            usages = []\n",
    "            if isinstance(obj, dict):\n",
    "                if 'usage' in obj and 'total_tokens' in obj['usage']:\n",
    "                    usages.append(obj['usage']['total_tokens'])\n",
    "                for v in obj.values():\n",
    "                    usages.extend(find_usages(v))\n",
    "            elif isinstance(obj, list):\n",
    "                for item in obj:\n",
    "                    usages.extend(find_usages(item))\n",
    "            return usages\n",
    "        return sum(find_usages(data))\n",
    "    except Exception:\n",
    "        return None"
   ]
  },
  {
   "cell_type": "code",
   "execution_count": 0,
   "metadata": {
    "application/vnd.databricks.v1+cell": {
     "cellMetadata": {
      "byteLimit": 2048000,
      "rowLimit": 10000
     },
     "inputWidgets": {},
     "nuid": "116894a2-ca4f-4517-aec8-4240fa157b74",
     "showTitle": false,
     "tableResultSettingsMap": {},
     "title": ""
    }
   },
   "outputs": [],
   "source": [
    "json.loads(data['databricks_output']['trace']['data']['spans'][-1]['attributes']['mlflow.spanOutputs'])['messages'][0]['response_metadata']['usage']"
   ]
  }
 ],
 "metadata": {
  "application/vnd.databricks.v1+notebook": {
   "computePreferences": null,
   "dashboards": [],
   "environmentMetadata": {
    "base_environment": "",
    "environment_version": "2"
   },
   "inputWidgetPreferences": null,
   "language": "python",
   "notebookMetadata": {
    "mostRecentlyExecutedCommandWithImplicitDF": {
     "commandId": 2841115367027237,
     "dataframes": [
      "_sqldf"
     ]
    },
    "pythonIndentUnit": 2
   },
   "notebookName": "cost management",
   "widgets": {}
  },
  "language_info": {
   "name": "python"
  }
 },
 "nbformat": 4,
 "nbformat_minor": 0
}
