{
 "cells": [
  {
   "cell_type": "code",
   "execution_count": 0,
   "metadata": {
    "application/vnd.databricks.v1+cell": {
     "cellMetadata": {
      "byteLimit": 2048000,
      "rowLimit": 10000
     },
     "inputWidgets": {},
     "nuid": "7b63b43b-e00b-4879-849c-a9e3aee979d6",
     "showTitle": false,
     "tableResultSettingsMap": {},
     "title": ""
    }
   },
   "outputs": [],
   "source": [
    "%pip install databricks-agents transformers mlflow torch\n",
    "%restart_python"
   ]
  },
  {
   "cell_type": "code",
   "execution_count": 0,
   "metadata": {
    "application/vnd.databricks.v1+cell": {
     "cellMetadata": {
      "byteLimit": 2048000,
      "rowLimit": 10000
     },
     "inputWidgets": {},
     "nuid": "9a1bf478-c304-44d2-a33c-502eb069a53e",
     "showTitle": false,
     "tableResultSettingsMap": {},
     "title": ""
    }
   },
   "outputs": [],
   "source": [
    "import mlflow\n",
    "import json\n",
    "import uuid\n",
    "from transformers import AutoModelForCausalLM, AutoTokenizer\n",
    "\n",
    "from mlflow.pyfunc import ChatAgent\n",
    "from mlflow.types.llm import (\n",
    "    ChatChunk,\n",
    "    ChatMessage,\n",
    "    ChatResponse,\n",
    "    ChatContext,\n",
    ")\n",
    "from typing import Any, Generator, Literal, Optional\n",
    "\n",
    "class Qwen_Pyfunc(ChatAgent):\n",
    "    def __init__(self):\n",
    "        self.model_name = \"Qwen/Qwen2.5-1.5B-Instruct\"\n",
    "        self.tokenizer = AutoTokenizer.from_pretrained(self.model_name,\n",
    "            torch_dtype=\"auto\",\n",
    "            device_map=\"auto\")\n",
    "        self.model = AutoModelForCausalLM.from_pretrained(self.model_name)\n",
    "\n",
    "    def load_context(self, context):\n",
    "        try:\n",
    "          model_dir = os.path.join(context.artifacts[\"model\"], \"qwen\")\n",
    "          self.tokenizer = AutoTokenizer.from_pretrained(model_dir)\n",
    "          self.model = AutoModelForCausalLM.from_pretrained(model_dir,\n",
    "              torch_dtype=\"auto\",\n",
    "              device_map=\"auto\")\n",
    "        except:\n",
    "          self.tokenizer = AutoTokenizer.from_pretrained(self.model_name,\n",
    "              torch_dtype=\"auto\",\n",
    "              device_map=\"auto\")\n",
    "          self.model = AutoModelForCausalLM.from_pretrained(self.model_name)\n",
    "          \n",
    "    def predict(\n",
    "        self,\n",
    "        messages: list[ChatMessage],\n",
    "        context: Optional[ChatContext] = None,\n",
    "        custom_inputs: Optional[dict[str, Any]] = None,\n",
    "    ) -> ChatResponse:\n",
    "        request = {\n",
    "            \"messages\": [m.model_dump_compat(exclude_none=True) for m in messages]\n",
    "        }\n",
    "        \n",
    "        messages = request['messages']\n",
    "\n",
    "        # Apply chat template for tool calling (see Qwen docs)\n",
    "        text = self.tokenizer.apply_chat_template(\n",
    "            messages, \n",
    "            add_generation_prompt=True, \n",
    "            tokenize=False\n",
    "        )\n",
    "        model_inputs = self.tokenizer([text], return_tensors=\"pt\").to(self.model.device)\n",
    "\n",
    "        generated_ids = self.model.generate(\n",
    "            **model_inputs,\n",
    "            max_new_tokens=512\n",
    "        )\n",
    "        generated_ids = [\n",
    "            output_ids[len(input_ids):] for input_ids, output_ids in zip(model_inputs.input_ids, generated_ids)\n",
    "        ]\n",
    "\n",
    "        response = self.tokenizer.batch_decode(generated_ids, skip_special_tokens=True)[0]\n",
    "\n",
    "        return ChatAgentResponse(messages=[ChatAgentMessage(\n",
    "          **{\"id\": str(uuid.uuid4()), \"role\": \"assistant\", \"content\": response})])"
   ]
  },
  {
   "cell_type": "code",
   "execution_count": 0,
   "metadata": {
    "application/vnd.databricks.v1+cell": {
     "cellMetadata": {
      "byteLimit": 2048000,
      "rowLimit": 10000
     },
     "inputWidgets": {},
     "nuid": "6a7065c5-c101-48a4-83d8-6842e9f29d02",
     "showTitle": false,
     "tableResultSettingsMap": {},
     "title": ""
    }
   },
   "outputs": [],
   "source": [
    "input_example = {'messages':[\n",
    "  {'role':'user', 'content':'What color is the sky?'}\n",
    "  ]}\n",
    "\n",
    "model = Qwen_Pyfunc()\n",
    "model.load_context(context=None)\n",
    "model.predict(input_example)"
   ]
  },
  {
   "cell_type": "code",
   "execution_count": 0,
   "metadata": {
    "application/vnd.databricks.v1+cell": {
     "cellMetadata": {
      "byteLimit": 2048000,
      "rowLimit": 10000
     },
     "inputWidgets": {},
     "nuid": "2640b3c8-10c7-4527-b7a1-a34966567b27",
     "showTitle": false,
     "tableResultSettingsMap": {},
     "title": ""
    }
   },
   "outputs": [],
   "source": [
    "# Log model to MLflow (Databricks)\n",
    "import mlflow\n",
    "import os\n",
    "\n",
    "os.environ[\"TOKENIZERS_PARALLELISM\"] = \"false\"\n",
    "\n",
    "mlflow.set_tracking_uri('databricks')\n",
    "mlflow.set_registry_uri('databricks-uc')\n",
    "\n",
    "with mlflow.start_run():\n",
    "    mlflow.pyfunc.log_model(\n",
    "        python_model=Qwen_Pyfunc(),\n",
    "        artifact_path=\"model\",\n",
    "        registered_model_name='shm.default.qwen25-1p5b-instruct',\n",
    "        input_example=input_example,\n",
    "        pip_requirements=[\"transformers\", \"mlflow\", \"torch\"]\n",
    "    )"
   ]
  },
  {
   "cell_type": "code",
   "execution_count": 0,
   "metadata": {
    "application/vnd.databricks.v1+cell": {
     "cellMetadata": {
      "byteLimit": 2048000,
      "rowLimit": 10000
     },
     "inputWidgets": {},
     "nuid": "85de9d40-9ca7-431b-9db1-d655ae212e53",
     "showTitle": false,
     "tableResultSettingsMap": {},
     "title": ""
    }
   },
   "outputs": [],
   "source": [
    "\n",
    "from mlflow.deployments import get_deploy_client\n",
    "\n",
    "client = get_deploy_client(\"databricks\")\n",
    "\n",
    "endpoint = client.create_endpoint(\n",
    "    name=\"shm_qwen_a100\",\n",
    "    config={\n",
    "        \"served_entities\": [\n",
    "            {\n",
    "                \"name\": \"shm_qwen_a100\",\n",
    "                \"entity_name\": \"shm.default.qwen25-1p5b-instruct\",\n",
    "                \"entity_version\": \"4\",\n",
    "                \"workload_type\": \"GPU_LARGE\",\n",
    "                \"workload_size\": \"Small\",\n",
    "                \"scale_to_zero_enabled\": True\n",
    "            }\n",
    "        ]\n",
    "    }\n",
    ")"
   ]
  }
 ],
 "metadata": {
  "application/vnd.databricks.v1+notebook": {
   "computePreferences": null,
   "dashboards": [],
   "environmentMetadata": {
    "base_environment": "",
    "environment_version": "2"
   },
   "inputWidgetPreferences": null,
   "language": "python",
   "notebookMetadata": {
    "pythonIndentUnit": 2
   },
   "notebookName": "Qwen Example",
   "widgets": {}
  },
  "language_info": {
   "name": "python"
  }
 },
 "nbformat": 4,
 "nbformat_minor": 0
}
