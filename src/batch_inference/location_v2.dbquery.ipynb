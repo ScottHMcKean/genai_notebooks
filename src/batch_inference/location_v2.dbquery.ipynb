{
 "cells": [
  {
   "cell_type": "code",
   "execution_count": 0,
   "metadata": {
    "application/vnd.databricks.v1+cell": {
     "cellMetadata": {},
     "inputWidgets": {},
     "nuid": "c98de640-5c36-4fae-91f1-aec606db596a",
     "showTitle": false,
     "tableResultSettingsMap": {},
     "title": ""
    }
   },
   "outputs": [],
   "source": [
    "CREATE OR REPLACE TABLE shm.default.extracted_location_data AS\n",
    "SELECT review, \n",
    "  ai_query(\n",
    "    'databricks-meta-llama-3-3-70b-instruct',\n",
    "    concat('''\n",
    "    Extract the city, country and continent from the location in this review. \n",
    "    Pause before providing the final answer - are all the entities correct?\n",
    "    Do not use abbreviations like USA or JP, provide the full name.\n",
    "    Only respond with the city, country, and continent separated by commas.\n",
    "    The continents should include: Asia, Africa, North America, South America, Antarctica, Europe, and Oceania\n",
    "    ''', review),\n",
    "    responseFormat => '{\n",
    "        \"type\": \"json_schema\",\n",
    "        \"json_schema\": {\n",
    "          \"name\": \"location\",\n",
    "          \"schema\": {\n",
    "            \"type\": \"object\",\n",
    "            \"properties\": {\n",
    "              \"city\": {\"type\": \"string\"},\n",
    "              \"country\": {\"type\": \"string\"},\n",
    "              \"continent\": {\"type\": \"string\"}\n",
    "            }\n",
    "          }\n",
    "        }\n",
    "      }'\n",
    "  ) AS location\n",
    "FROM samples.bakehouse.media_customer_reviews\n",
    "LIMIT 10"
   ]
  }
 ],
 "metadata": {
  "application/vnd.databricks.v1+notebook": {
   "computePreferences": null,
   "dashboards": [],
   "environmentMetadata": null,
   "inputWidgetPreferences": null,
   "language": "sql",
   "notebookMetadata": {
    "pythonIndentUnit": 2,
    "sqlQueryOptions": {
     "applyAutoLimit": true,
     "catalog": "hive_metastore",
     "schema": "default"
    }
   },
   "notebookName": "location_v2.dbquery.ipynb",
   "widgets": {}
  },
  "language_info": {
   "name": "sql"
  }
 },
 "nbformat": 4,
 "nbformat_minor": 0
}
