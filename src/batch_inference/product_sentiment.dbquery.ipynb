{
 "cells": [
  {
   "cell_type": "code",
   "execution_count": 0,
   "metadata": {
    "application/vnd.databricks.v1+cell": {
     "cellMetadata": {},
     "inputWidgets": {},
     "nuid": "62c631a1-d919-4c17-842c-077181920d40",
     "showTitle": false,
     "tableResultSettingsMap": {},
     "title": ""
    }
   },
   "outputs": [],
   "source": [
    "WITH sentiment_analysis AS (\n",
    "  SELECT \n",
    "    ai_analyze_sentiment(review) AS sentiment,\n",
    "    ai_extract(review, array('location','product')) AS extracted_info\n",
    "  FROM samples.bakehouse.media_customer_reviews\n",
    "  LIMIT 10\n",
    ")\n",
    "SELECT \n",
    "  extracted_info['location'] AS location,\n",
    "  extracted_info['product'] AS product,\n",
    "  sentiment\n",
    "FROM sentiment_analysis"
   ]
  }
 ],
 "metadata": {
  "application/vnd.databricks.v1+notebook": {
   "computePreferences": null,
   "dashboards": [],
   "environmentMetadata": null,
   "inputWidgetPreferences": null,
   "language": "sql",
   "notebookMetadata": {
    "sqlQueryOptions": {
     "applyAutoLimit": true,
     "catalog": "hive_metastore",
     "schema": "default"
    }
   },
   "notebookName": "product_sentiment.dbquery.ipynb",
   "widgets": {}
  },
  "language_info": {
   "name": "sql"
  }
 },
 "nbformat": 4,
 "nbformat_minor": 0
}
