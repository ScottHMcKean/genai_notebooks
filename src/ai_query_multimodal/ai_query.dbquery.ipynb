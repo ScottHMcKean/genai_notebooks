{
 "cells": [
  {
   "cell_type": "code",
   "execution_count": 0,
   "metadata": {
    "application/vnd.databricks.v1+cell": {
     "cellMetadata": {},
     "inputWidgets": {},
     "nuid": "778d4d79-08c9-4731-9322-fdcc49c76004",
     "showTitle": false,
     "tableResultSettingsMap": {},
     "title": ""
    }
   },
   "outputs": [],
   "source": [
    "WITH RandomProduct AS (\n",
    "  SELECT\n",
    "      ROW_NUMBER() OVER (ORDER BY RAND()) + 100 AS row,\n",
    "      *\n",
    "  FROM shm.marketing.products_sample\n",
    "  LIMIT 100\n",
    ")\n",
    "SELECT \n",
    "  C.campaign_id, C.template, C.cost, \n",
    "  C.start_date, C.end_date, C.mailing_list,\n",
    "  P.title, P.product_id, \n",
    "  json_tuple(\n",
    "    AI_QUERY(\n",
    "      'databricks-meta-llama-3-3-70b-instruct',\n",
    "      CONCAT('Using the following product title, description, and feature summary, make a witty campaign name, campaign description, and email marketing subject line. Return them in json format. \\n', title, product_description, features_summary),\n",
    "      responseFormat => '{\n",
    "        \"type\": \"json_schema\",\n",
    "        \"json_schema\": {\n",
    "          \"name\": \"generated_campaign\",\n",
    "          \"schema\": {\n",
    "            \"type\": \"object\",\n",
    "            \"properties\": {\n",
    "              \"campaign_name\": {\"type\": \"string\"},\n",
    "              \"campaign_description\": {\"type\": \"string\"},\n",
    "              \"subject_line\": {\"type\": \"string\"}\n",
    "            }\n",
    "          }\n",
    "        }\n",
    "      }'\n",
    "    ), \n",
    "    'campaign_name', 'campaign_description', 'subject_line') \n",
    "    AS (campaign_name, campaign_description, subject_line)\n",
    "FROM RandomProduct P\n",
    "JOIN shm.marketing.campaigns C\n",
    "ON P.row = C.campaign_id"
   ]
  }
 ],
 "metadata": {
  "application/vnd.databricks.v1+notebook": {
   "computePreferences": null,
   "dashboards": [],
   "environmentMetadata": null,
   "inputWidgetPreferences": null,
   "language": "sql",
   "notebookMetadata": {
    "sqlQueryOptions": {
     "applyAutoLimit": true,
     "catalog": "hive_metastore",
     "schema": "default"
    }
   },
   "notebookName": "ai_query.dbquery.ipynb",
   "widgets": {}
  },
  "language_info": {
   "name": "sql"
  }
 },
 "nbformat": 4,
 "nbformat_minor": 0
}
