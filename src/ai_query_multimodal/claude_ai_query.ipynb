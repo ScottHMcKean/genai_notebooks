{
 "cells": [
  {
   "cell_type": "code",
   "execution_count": 0,
   "metadata": {
    "application/vnd.databricks.v1+cell": {
     "cellMetadata": {
      "byteLimit": 2048000,
      "rowLimit": 10000
     },
     "inputWidgets": {},
     "nuid": "c3a88c5e-f93b-4cff-a072-411849613907",
     "showTitle": false,
     "tableResultSettingsMap": {},
     "title": ""
    }
   },
   "outputs": [],
   "source": [
    "%pip install OpenAI"
   ]
  },
  {
   "cell_type": "markdown",
   "metadata": {
    "application/vnd.databricks.v1+cell": {
     "cellMetadata": {},
     "inputWidgets": {},
     "nuid": "e562b060-9dec-449c-aa01-66b2780e9dd0",
     "showTitle": false,
     "tableResultSettingsMap": {},
     "title": ""
    }
   },
   "source": [
    "Most companies just want an easy way to analyze scanned documents. Multimodal models unlock this - sure they are expensive, but they are really efficient to 'program'."
   ]
  },
  {
   "cell_type": "code",
   "execution_count": 0,
   "metadata": {
    "application/vnd.databricks.v1+cell": {
     "cellMetadata": {
      "byteLimit": 2048000,
      "rowLimit": 10000
     },
     "inputWidgets": {},
     "nuid": "93a3af90-2d5a-4bc2-9a63-21b045943e47",
     "showTitle": false,
     "tableResultSettingsMap": {},
     "title": ""
    }
   },
   "outputs": [],
   "source": [
    "from openai import OpenAI\n",
    "import os\n",
    "import base64\n",
    "from PIL import Image\n",
    "import io\n",
    "\n",
    "DATABRICKS_TOKEN = dbutils.notebook.entry_point.getDbutils().notebook().getContext().apiToken().get()\n",
    "\n",
    "# Path to image file in Databricks volume\n",
    "image_path = \"/Volumes/shm/multimodal/docs_bronze/land_title.png\"\n",
    "\n",
    "# Read and encode the image\n",
    "with open(image_path, \"rb\") as image_file:\n",
    "    image_data = base64.b64encode(image_file.read()).decode(\"utf-8\")\n",
    "\n",
    "client = OpenAI(\n",
    "  api_key=DATABRICKS_TOKEN,\n",
    "  base_url=\"https://adb-984752964297111.11.azuredatabricks.net/serving-endpoints\"\n",
    ")\n",
    "\n",
    "chat_completion = client.chat.completions.create(\n",
    "  messages=[\n",
    "    {\n",
    "      \"role\": \"system\",\n",
    "      \"content\": \"You are an AI assistant that can extract and analyze text from images.\"\n",
    "    },\n",
    "    {\n",
    "      \"role\": \"user\",\n",
    "      \"content\": [\n",
    "        {\"type\": \"text\", \"text\": \"Extract all text from this image and summarize what it contains.\"},\n",
    "        {\"type\": \"image_url\", \"image_url\": {\"url\": f\"data:image/jpeg;base64,{image_data}\"}}\n",
    "      ]\n",
    "    }\n",
    "  ],\n",
    "  model=\"databricks-claude-3-7-sonnet\",\n",
    "  max_tokens=512\n",
    ")\n",
    "\n",
    "parsed_text = chat_completion.choices[0].message.content\n",
    "print(parsed_text)"
   ]
  },
  {
   "cell_type": "markdown",
   "metadata": {
    "application/vnd.databricks.v1+cell": {
     "cellMetadata": {},
     "inputWidgets": {},
     "nuid": "0927025b-282d-46ef-bfee-97ce0ce36545",
     "showTitle": false,
     "tableResultSettingsMap": {},
     "title": ""
    }
   },
   "source": [
    "We win when people expand this to large tables and get data moving"
   ]
  },
  {
   "cell_type": "code",
   "execution_count": 0,
   "metadata": {
    "application/vnd.databricks.v1+cell": {
     "cellMetadata": {
      "byteLimit": 2048000,
      "rowLimit": 10000
     },
     "inputWidgets": {},
     "nuid": "22b8474f-18b6-4126-ab39-1b5d6f5363b7",
     "showTitle": false,
     "tableResultSettingsMap": {},
     "title": ""
    }
   },
   "outputs": [],
   "source": [
    "table = spark.createDataFrame(\n",
    "  [(image_path, parsed_text)],\n",
    "  ['path','parsed_text']\n",
    ")\n",
    "table.write.mode('overwrite').format('delta').saveAsTable('shm.default.parsed_text')"
   ]
  },
  {
   "cell_type": "markdown",
   "metadata": {
    "application/vnd.databricks.v1+cell": {
     "cellMetadata": {},
     "inputWidgets": {},
     "nuid": "236de53e-f8f1-4abd-81cb-2f07e5030f9a",
     "showTitle": false,
     "tableResultSettingsMap": {},
     "title": ""
    }
   },
   "source": [
    "Now let's use a cheaper model to extract key information"
   ]
  },
  {
   "cell_type": "code",
   "execution_count": 0,
   "metadata": {
    "application/vnd.databricks.v1+cell": {
     "cellMetadata": {
      "byteLimit": 2048000,
      "implicitDf": true,
      "rowLimit": 10000
     },
     "inputWidgets": {},
     "nuid": "43c6f754-7497-4aef-b54b-a2bca1ce12bc",
     "showTitle": false,
     "tableResultSettingsMap": {},
     "title": ""
    }
   },
   "outputs": [],
   "source": [
    "%sql\n",
    "SELECT \n",
    "  *, \n",
    "  ai_query(\n",
    "    'databricks-meta-llama-3-3-70b-instruct',\n",
    "    CONCAT('Identify all landowners in this document. Return only the names in a comma separated python list, without any preamble:', parsed_text)\n",
    "  ) as landowners, \n",
    "  ai_query(\n",
    "    'databricks-meta-llama-3-3-70b-instruct',\n",
    "    CONCAT('Identify gas and oil royalties in the document', parsed_text),\n",
    "    responseFormat => '{\n",
    "      \"type\": \"json_schema\",\n",
    "      \"json_schema\": {\n",
    "        \"name\": \"royalties\",\n",
    "        \"schema\": {\n",
    "          \"type\": \"object\",\n",
    "          \"properties\": {\n",
    "            \"gas_royalty\": {\"type\": \"number\"},\n",
    "            \"oil_royalty\": {\"type\": \"number\"}\n",
    "          }\n",
    "        }\n",
    "      }\n",
    "    }'\n",
    "  ) as royalties\n",
    "FROM shm.default.parsed_text"
   ]
  }
 ],
 "metadata": {
  "application/vnd.databricks.v1+notebook": {
   "computePreferences": null,
   "dashboards": [],
   "environmentMetadata": {
    "base_environment": "",
    "environment_version": "2"
   },
   "inputWidgetPreferences": null,
   "language": "python",
   "notebookMetadata": {
    "mostRecentlyExecutedCommandWithImplicitDF": {
     "commandId": 1412556571894482,
     "dataframes": [
      "_sqldf"
     ]
    },
    "pythonIndentUnit": 2
   },
   "notebookName": "claude_ai_query",
   "widgets": {}
  },
  "language_info": {
   "name": "python"
  }
 },
 "nbformat": 4,
 "nbformat_minor": 0
}
