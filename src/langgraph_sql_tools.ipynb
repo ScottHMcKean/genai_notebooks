{
 "cells": [
  {
   "cell_type": "markdown",
   "metadata": {
    "application/vnd.databricks.v1+cell": {
     "cellMetadata": {},
     "inputWidgets": {},
     "nuid": "de33d717-54f5-4708-a3c7-fffef35e08c3",
     "showTitle": false,
     "tableResultSettingsMap": {},
     "title": ""
    }
   },
   "source": [
    "This notebook provides a minimum reproducible example of sql toolkits in LangGraph, connecting to Unity Catalog tables. We profile standard calls versus online tables.\n",
    "\n",
    "Some resources\n",
    "\n",
    "- https://python.langchain.com/docs/integrations/providers/databricks/#sqldatabase\n",
    "- https://docs.databricks.com/aws/en/generative-ai/agent-framework/structured-retrieval-tools#table-query-tool"
   ]
  },
  {
   "cell_type": "code",
   "execution_count": 0,
   "metadata": {
    "application/vnd.databricks.v1+cell": {
     "cellMetadata": {
      "byteLimit": 2048000,
      "rowLimit": 10000
     },
     "inputWidgets": {},
     "nuid": "8bc84c7c-3a9e-4f58-8206-c9b5f150a50d",
     "showTitle": false,
     "tableResultSettingsMap": {},
     "title": ""
    }
   },
   "outputs": [],
   "source": [
    "%pip install unitycatalog-ai[databricks]\n",
    "%pip install unitycatalog-langchain[databricks]"
   ]
  },
  {
   "cell_type": "code",
   "execution_count": 0,
   "metadata": {
    "application/vnd.databricks.v1+cell": {
     "cellMetadata": {
      "byteLimit": 2048000,
      "rowLimit": 10000
     },
     "inputWidgets": {},
     "nuid": "5866895b-4ab8-472f-bbe0-bfe6d6cc6bfa",
     "showTitle": false,
     "tableResultSettingsMap": {},
     "title": ""
    }
   },
   "outputs": [],
   "source": [
    "from unitycatalog.ai.core.databricks import DatabricksFunctionClient\n",
    "from unitycatalog.ai.langchain.toolkit import UCFunctionToolkit\n",
    "client = DatabricksFunctionClient()"
   ]
  },
  {
   "cell_type": "markdown",
   "metadata": {
    "application/vnd.databricks.v1+cell": {
     "cellMetadata": {},
     "inputWidgets": {},
     "nuid": "727f5eb3-9c50-4321-a3ea-251d1ce5c153",
     "showTitle": false,
     "tableResultSettingsMap": {},
     "title": ""
    }
   },
   "source": [
    "## Standard Delta Table Toolkit"
   ]
  },
  {
   "cell_type": "code",
   "execution_count": 0,
   "metadata": {
    "application/vnd.databricks.v1+cell": {
     "cellMetadata": {
      "byteLimit": 2048000,
      "rowLimit": 10000
     },
     "inputWidgets": {},
     "nuid": "5b6e009e-f6da-4dba-86b4-d06caef95b0d",
     "showTitle": false,
     "tableResultSettingsMap": {},
     "title": ""
    }
   },
   "outputs": [],
   "source": [
    "CATALOG = 'shm'\n",
    "SCHEMA = 'iot_turbine'"
   ]
  },
  {
   "cell_type": "code",
   "execution_count": 0,
   "metadata": {
    "application/vnd.databricks.v1+cell": {
     "cellMetadata": {
      "byteLimit": 2048000,
      "implicitDf": true,
      "rowLimit": 10000
     },
     "inputWidgets": {},
     "nuid": "b69b7c36-024b-4a4a-8ac7-a0f94670b46a",
     "showTitle": false,
     "tableResultSettingsMap": {},
     "title": ""
    }
   },
   "outputs": [],
   "source": [
    "%sql\n",
    "CREATE OR REPLACE FUNCTION shm.iot_turbine.part_info(\n",
    "  stock_location STRING COMMENT 'Region, e.g. America/Denver'\n",
    ")\n",
    "RETURNS STRING\n",
    "COMMENT 'Returns an string of EAN, location, and stock available. The EAN can be used for other queries'\n",
    "RETURN SELECT CONCAT(\n",
    "  'EAN: ', EAN, ', ','Region: ', stock_location, 'Stock: ', stock_available\n",
    ")\n",
    "FROM shm.iot_turbine.parts\n",
    "WHERE stock_location = stock_location\n",
    "AND TYPE = 'blade'\n",
    "ORDER BY stock_available\n",
    "LIMIT 1"
   ]
  },
  {
   "cell_type": "code",
   "execution_count": 0,
   "metadata": {
    "application/vnd.databricks.v1+cell": {
     "cellMetadata": {
      "byteLimit": 2048000,
      "rowLimit": 10000
     },
     "inputWidgets": {},
     "nuid": "231fdcd2-30e8-4698-90b1-0dfcf86e8751",
     "showTitle": false,
     "tableResultSettingsMap": {},
     "title": ""
    }
   },
   "outputs": [],
   "source": [
    "# Define the UC function to be used as a tool\n",
    "func_name = f\"{CATALOG}.{SCHEMA}.part_info\"\n",
    "\n",
    "# Create a toolkit with the UC function\n",
    "toolkit = UCFunctionToolkit(function_names=[func_name], client=client)\n",
    "\n",
    "tools = toolkit.tools"
   ]
  },
  {
   "cell_type": "code",
   "execution_count": 0,
   "metadata": {
    "application/vnd.databricks.v1+cell": {
     "cellMetadata": {
      "byteLimit": 2048000,
      "rowLimit": 10000
     },
     "inputWidgets": {},
     "nuid": "428b99f9-db49-45d2-a008-6a32bc9d9b81",
     "showTitle": false,
     "tableResultSettingsMap": {},
     "title": ""
    }
   },
   "outputs": [],
   "source": [
    "import time\n",
    "import numpy as np\n",
    "\n",
    "response_times = []\n",
    "\n",
    "for _ in range(10):\n",
    "    start_time = time.time()\n",
    "    tools[0].run({'stock_location': 'America/Denver'})\n",
    "    end_time = time.time()\n",
    "    response_times.append(end_time - start_time)\n",
    "\n",
    "mean_response_time = np.mean(response_times)\n",
    "variance_response_time = np.var(response_times)\n",
    "\n",
    "\"mean: {:.2f}, variance: {:.2f}\".format(mean_response_time, variance_response_time)"
   ]
  },
  {
   "cell_type": "markdown",
   "metadata": {
    "application/vnd.databricks.v1+cell": {
     "cellMetadata": {},
     "inputWidgets": {},
     "nuid": "0955e60a-a781-462a-9a56-42656acc0417",
     "showTitle": false,
     "tableResultSettingsMap": {},
     "title": ""
    }
   },
   "source": [
    "## Online Table Toolkit"
   ]
  },
  {
   "cell_type": "code",
   "execution_count": 0,
   "metadata": {
    "application/vnd.databricks.v1+cell": {
     "cellMetadata": {
      "byteLimit": 2048000,
      "implicitDf": true,
      "rowLimit": 10000
     },
     "inputWidgets": {},
     "nuid": "5154f51d-f88f-4401-a2ea-1f23e4b0b3df",
     "showTitle": false,
     "tableResultSettingsMap": {},
     "title": ""
    }
   },
   "outputs": [],
   "source": [
    "%sql\n",
    "CREATE OR REPLACE FUNCTION shm.iot_turbine.part_info_live(\n",
    "  stock_location STRING COMMENT 'Region, e.g. America/Denver'\n",
    ")\n",
    "RETURNS STRING\n",
    "COMMENT 'Returns an string of EAN, location, and stock available. The EAN can be used for other queries'\n",
    "RETURN SELECT CONCAT(\n",
    "  'EAN: ', EAN, ', ','Region: ', stock_location, 'Stock: ', stock_available\n",
    ")\n",
    "FROM shm.iot_turbine.parts_live\n",
    "WHERE stock_location = stock_location\n",
    "AND TYPE = 'blade'\n",
    "ORDER BY stock_available\n",
    "LIMIT 1"
   ]
  },
  {
   "cell_type": "code",
   "execution_count": 0,
   "metadata": {
    "application/vnd.databricks.v1+cell": {
     "cellMetadata": {
      "byteLimit": 2048000,
      "rowLimit": 10000
     },
     "inputWidgets": {},
     "nuid": "14b1fdb0-1102-43ea-8471-d8d0fbbc9db3",
     "showTitle": false,
     "tableResultSettingsMap": {},
     "title": ""
    }
   },
   "outputs": [],
   "source": [
    "# Define the UC function to be used as a tool\n",
    "func_name = f\"{CATALOG}.{SCHEMA}.part_info_live\"\n",
    "\n",
    "# Create a toolkit with the UC function\n",
    "live_toolkit = UCFunctionToolkit(function_names=[func_name], client=client)\n",
    "\n",
    "live_tools = live_toolkit.tools"
   ]
  },
  {
   "cell_type": "code",
   "execution_count": 0,
   "metadata": {
    "application/vnd.databricks.v1+cell": {
     "cellMetadata": {
      "byteLimit": 2048000,
      "rowLimit": 10000
     },
     "inputWidgets": {},
     "nuid": "88be4bc1-9ce4-4679-abc0-3cffaec4bd6b",
     "showTitle": false,
     "tableResultSettingsMap": {},
     "title": ""
    }
   },
   "outputs": [],
   "source": [
    "import time\n",
    "import numpy as np\n",
    "\n",
    "response_times = []\n",
    "\n",
    "for _ in range(10):\n",
    "    start_time = time.time()\n",
    "    live_tools[0].run({'stock_location': 'America/Denver'})\n",
    "    end_time = time.time()\n",
    "    response_times.append(end_time - start_time)\n",
    "\n",
    "mean_response_time = np.mean(response_times)\n",
    "variance_response_time = np.var(response_times)\n",
    "\n",
    "\"mean: {:.2f}, variance: {:.2f}\".format(mean_response_time, variance_response_time)"
   ]
  }
 ],
 "metadata": {
  "application/vnd.databricks.v1+notebook": {
   "computePreferences": null,
   "dashboards": [],
   "environmentMetadata": {
    "base_environment": "",
    "environment_version": "2"
   },
   "inputWidgetPreferences": null,
   "language": "python",
   "notebookMetadata": {
    "mostRecentlyExecutedCommandWithImplicitDF": {
     "commandId": 2683415564765803,
     "dataframes": [
      "_sqldf"
     ]
    },
    "pythonIndentUnit": 2
   },
   "notebookName": "langgraph_sql_tools",
   "widgets": {}
  },
  "language_info": {
   "name": "python"
  }
 },
 "nbformat": 4,
 "nbformat_minor": 0
}
