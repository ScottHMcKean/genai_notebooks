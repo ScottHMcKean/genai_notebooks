{
 "cells": [
  {
   "cell_type": "code",
   "execution_count": 0,
   "metadata": {
    "application/vnd.databricks.v1+cell": {
     "cellMetadata": {
      "byteLimit": 2048000,
      "rowLimit": 10000
     },
     "inputWidgets": {},
     "nuid": "f504bef9-e144-4a4c-a51c-2af5b0be4c44",
     "showTitle": false,
     "tableResultSettingsMap": {},
     "title": ""
    }
   },
   "outputs": [],
   "source": [
    "import boto3\n",
    "import json\n",
    "\n",
    "bedrock = boto3.client(\n",
    "    service_name='bedrock-runtime',\n",
    "    region_name='us-east-2',\n",
    "    aws_access_key_id=dbutils.secrets.get('shm','bedrock-acc'),\n",
    "    aws_secret_access_key=dbutils.secrets.get('shm','bedrock-key')\n",
    ")\n",
    "\n",
    "response = bedrock.invoke_model(\n",
    "    modelId='us.amazon.nova-pro-v1:0',\n",
    "    body=json.dumps({\n",
    "  \"messages\": [{\n",
    "    \"role\": \"user\",\n",
    "    \"content\": [\n",
    "      {\"text\": \"What is the integral of 2x?\"},\n",
    "    ]\n",
    "  }]\n",
    "})\n",
    ")\n",
    "\n",
    "response.get('body').read()"
   ]
  }
 ],
 "metadata": {
  "application/vnd.databricks.v1+notebook": {
   "computePreferences": null,
   "dashboards": [],
   "environmentMetadata": {
    "base_environment": "",
    "environment_version": "2"
   },
   "inputWidgetPreferences": null,
   "language": "python",
   "notebookMetadata": {
    "pythonIndentUnit": 2
   },
   "notebookName": "Bedrock Call",
   "widgets": {}
  },
  "language_info": {
   "name": "python"
  }
 },
 "nbformat": 4,
 "nbformat_minor": 0
}
