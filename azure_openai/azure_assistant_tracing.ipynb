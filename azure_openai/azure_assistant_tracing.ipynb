{
 "cells": [
  {
   "cell_type": "markdown",
   "id": "7d12f8ae",
   "metadata": {},
   "source": [
    "# Azure Assistant Tracing\n",
    "\n",
    "This notebook demonstrates how we can instrument an Azure Assistant for tracing and feedback within an application. While done in a notebook there is no need to run this within Databricks, since it is designed to slot into a streamlit application."
   ]
  },
  {
   "cell_type": "code",
   "execution_count": null,
   "id": "98d43323",
   "metadata": {},
   "outputs": [],
   "source": [
    "import time\n",
    "from openai import AzureOpenAI\n",
    "import mlflow\n",
    "from databricks.sdk import WorkspaceClient\n",
    "from mlflow.tracing.destination import Databricks"
   ]
  },
  {
   "cell_type": "markdown",
   "id": "b9fef2cc",
   "metadata": {},
   "source": [
    "The first thing we do is setup some basic authentication. I am using a [default WorkspaceClient authentication](https://docs.databricks.com/aws/en/dev-tools/sdk-python#authenticate-the-databricks-sdk-for-python-with-your-databricks-account-or-workspace), but you may need to pass a host and token in your app or use [OAuth](https://docs.databricks.com/aws/en/dev-tools/auth/oauth-u2m) (recommended). If using OAuth, we can use the workspace client to get the user's information for conversation history and tracing."
   ]
  },
  {
   "cell_type": "code",
   "execution_count": 185,
   "id": "cd681977",
   "metadata": {},
   "outputs": [],
   "source": [
    "w = WorkspaceClient()\n",
    "endpoint = \"https://dbmma.openai.azure.com/\"\n",
    "api_key = w.dbutils.secrets.get(scope=\"shm\", key=\"azure_agent_key\")\n",
    "\n",
    "# use this to get Databricks credentials for tracking\n",
    "user_name = w.current_user.me().user_name\n",
    "user_id = w.current_user.me().id"
   ]
  },
  {
   "cell_type": "markdown",
   "id": "00d80508",
   "metadata": {},
   "source": [
    "The first concept is to use an experiment to track our application. I would recommend either using one experiment for the whole application (i.e. Agent) and tagging each release, or using one experiment per release (i.e. Agent-V1, Agent-V2, etc)."
   ]
  },
  {
   "cell_type": "code",
   "execution_count": 186,
   "id": "7bab55f5",
   "metadata": {},
   "outputs": [],
   "source": [
    "# experiment = w.experiments.create_experiment('/Users/scott.mckean@databricks.com/experiments/azure_assistant').experiment\n",
    "\n",
    "experiment = w.experiments.get_by_name(\n",
    "  '/Users/scott.mckean@databricks.com/experiments/azure_assistant'\n",
    "  ).experiment"
   ]
  },
  {
   "cell_type": "markdown",
   "id": "adcca840",
   "metadata": {},
   "source": [
    "This follows the standard Azure authentication and inference flow. One critical note here is that the Azure Assistant API only works with the AzureOpenAI Assistants API, which is now deprecated and being replaced by the ResponsesAPI. It should be fine for the POC though."
   ]
  },
  {
   "cell_type": "code",
   "execution_count": 187,
   "id": "7ffc8278",
   "metadata": {},
   "outputs": [],
   "source": [
    "client = AzureOpenAI(\n",
    "  azure_endpoint = endpoint,\n",
    "  api_key= api_key,\n",
    "  api_version=\"2024-05-01-preview\"\n",
    ")"
   ]
  },
  {
   "cell_type": "markdown",
   "id": "95bb5b11",
   "metadata": {},
   "source": [
    "We can either create a new assistant using the assistants.create() method or use an existing one using the assistants.retrieve() method."
   ]
  },
  {
   "cell_type": "code",
   "execution_count": 188,
   "id": "08062725",
   "metadata": {},
   "outputs": [],
   "source": [
    "assistant = client.beta.assistants.retrieve(assistant_id='asst_Mbf4tcs8E6ZOv4aOQ9nKBy7o')\n",
    "\n",
    "# or \n",
    "# assistant = client.beta.assistants.create(\n",
    "#   model=\"gpt-4o-mini\", # replace with model deployment name.\n",
    "#   instructions=\"You are an assistant that answers questions about the FORGE geothermal project in Utah.\",\n",
    "#   tools=[{\"type\":\"file_search\"}],\n",
    "#   tool_resources={\"file_search\":{\"vector_store_ids\":[\"vs_VhOIWdzPecXrOlDMWmlhhUvH\"]}},\n",
    "#   temperature=0.17,\n",
    "#   top_p=0.1\n",
    "# )"
   ]
  },
  {
   "cell_type": "markdown",
   "id": "0d3874bb",
   "metadata": {},
   "source": [
    "We set the tracking server to Databricks and reference the experiment ID. This should be done in the application (could use environment variables for the experiment ID)."
   ]
  },
  {
   "cell_type": "code",
   "execution_count": 16,
   "id": "1aa4dcd4",
   "metadata": {},
   "outputs": [],
   "source": [
    "mlflow.set_tracking_uri(\"databricks\")\n",
    "mlflow.tracing.set_destination(\n",
    "    Databricks(experiment_id=experiment.experiment_id)\n",
    "    )"
   ]
  },
  {
   "cell_type": "markdown",
   "id": "63c788b8",
   "metadata": {},
   "source": [
    "This is the heart of the tracing code. We wrap the default assistant code with a mlflow.start_span() context manager. Now that we have a span, we can set inputs, attributes, trace metadata, and log the outputs. \n",
    "\n",
    "It is worth noting the hierarchy here:\n",
    "Experiment -> Trace -> Span -> Assistant Calls\n",
    "\n",
    "I've done some basic quality of life conversions here to make sure we have the messages easily accessible, and the proper metadata captured, the two most important ones being the session_id and user_id, which we will need to match with our conversation history capture in Postgres or Cosmos."
   ]
  },
  {
   "cell_type": "code",
   "execution_count": 189,
   "id": "87a822c1",
   "metadata": {},
   "outputs": [],
   "source": [
    "def run_assistant_query(client, assistant, user_name, question: str):\n",
    "\n",
    "    with mlflow.start_span(\n",
    "        name='azure_assistant_query', \n",
    "        span_type='LLM'\n",
    "    ) as span:\n",
    "        thread = client.beta.threads.create()      \n",
    "        \n",
    "        span.set_inputs({\n",
    "            'messages': [{'role': 'user', 'content': question}],\n",
    "            \"user_id\": user_id,\n",
    "            \"assistant_id\": assistant.id,\n",
    "            \"thread_id\": thread.id,\n",
    "        })\n",
    "  \n",
    "        mlflow.update_current_trace(\n",
    "            client_request_id=thread.id,\n",
    "              metadata={\n",
    "                  \"mlflow.trace.user\": user_name,\n",
    "                  \"mlflow.trace.session\": thread.id, \n",
    "              }\n",
    "          )\n",
    "  \n",
    "        # Add a user question to the thread\n",
    "        _ = client.beta.threads.messages.create(\n",
    "            thread_id=thread.id,\n",
    "            role=\"user\",\n",
    "            content=question,\n",
    "        )\n",
    "\n",
    "        # Run the thread\n",
    "        run = client.beta.threads.runs.create(\n",
    "            thread_id=thread.id,\n",
    "            assistant_id=assistant.id,\n",
    "        )\n",
    "\n",
    "        # Poll until completion\n",
    "        while run.status in [\"queued\", \"in_progress\", \"cancelling\"]:\n",
    "            time.sleep(1)\n",
    "            run = client.beta.threads.runs.retrieve(\n",
    "            thread_id=thread.id,\n",
    "            run_id=run.id,\n",
    "            )\n",
    "\n",
    "        # Capture status and AzureOpenAI attributes\n",
    "        mlflow.update_current_trace(state=\"OK\")\n",
    "        span.set_attributes(run.model_dump())    \n",
    "        \n",
    "        # Extract a standard dictionary of assistant responses\n",
    "        # Currently doens't include tools (build on Responses API later)\n",
    "        messages = client.beta.threads.messages.list(\n",
    "            thread_id=thread.id\n",
    "            )\n",
    "\n",
    "        output_messages = [\n",
    "            {\n",
    "                'role': x.role,\n",
    "                'content': x.content[0].text.value\n",
    "            } \n",
    "            for x in messages.data\n",
    "        ]\n",
    "\n",
    "        all_outputs = [\n",
    "            x.model_dump() \n",
    "            for x in messages.data \n",
    "            if x.role == 'assistant'\n",
    "            ]\n",
    "        \n",
    "        # Log agent response as MLflow output\n",
    "        span.set_outputs({\n",
    "            'messages': output_messages,\n",
    "            'output': all_outputs\n",
    "            })\n",
    "\n",
    "        \n",
    "        return {\n",
    "            'messages':output_messages, \n",
    "            'output':all_outputs,\n",
    "            'attributes':run.model_dump()\n",
    "            }"
   ]
  },
  {
   "cell_type": "markdown",
   "id": "7eed5e31",
   "metadata": {},
   "source": [
    "Now we run the assistant - the tracing is automatically captured, but we get the result back so we can pull the trace and return the assistant message."
   ]
  },
  {
   "cell_type": "code",
   "execution_count": 191,
   "id": "a54f1798",
   "metadata": {},
   "outputs": [
    {
     "name": "stderr",
     "output_type": "stream",
     "text": [
      "/var/folders/2x/pf13chqx4614qjlmjdgmndv00000gp/T/ipykernel_48710/2802846583.py:7: DeprecationWarning: The Assistants API is deprecated in favor of the Responses API\n",
      "  thread = client.beta.threads.create()\n",
      "/var/folders/2x/pf13chqx4614qjlmjdgmndv00000gp/T/ipykernel_48710/2802846583.py:25: DeprecationWarning: The Assistants API is deprecated in favor of the Responses API\n",
      "  _ = client.beta.threads.messages.create(\n",
      "/var/folders/2x/pf13chqx4614qjlmjdgmndv00000gp/T/ipykernel_48710/2802846583.py:32: DeprecationWarning: The Assistants API is deprecated in favor of the Responses API\n",
      "  run = client.beta.threads.runs.create(\n",
      "/var/folders/2x/pf13chqx4614qjlmjdgmndv00000gp/T/ipykernel_48710/2802846583.py:40: DeprecationWarning: The Assistants API is deprecated in favor of the Responses API\n",
      "  run = client.beta.threads.runs.retrieve(\n",
      "/var/folders/2x/pf13chqx4614qjlmjdgmndv00000gp/T/ipykernel_48710/2802846583.py:51: DeprecationWarning: The Assistants API is deprecated in favor of the Responses API\n",
      "  messages = client.beta.threads.messages.list(\n"
     ]
    }
   ],
   "source": [
    "# Single traced call; print concise outputs\n",
    "question = \"What wells are on the project?\"\n",
    "result = run_assistant_query(client, assistant, user_name, question)"
   ]
  },
  {
   "cell_type": "markdown",
   "id": "a67cf170",
   "metadata": {},
   "source": [
    "With the experiment ID and trace ID, we can directly query the trace and get the UUID from mlflow. We can also pull all of the user's previous threads for helping with conversation history or feedback."
   ]
  },
  {
   "cell_type": "code",
   "execution_count": 196,
   "id": "1bfbd7ea",
   "metadata": {},
   "outputs": [
    {
     "data": {
      "text/html": [
       "<div>\n",
       "<style scoped>\n",
       "    .dataframe tbody tr th:only-of-type {\n",
       "        vertical-align: middle;\n",
       "    }\n",
       "\n",
       "    .dataframe tbody tr th {\n",
       "        vertical-align: top;\n",
       "    }\n",
       "\n",
       "    .dataframe thead th {\n",
       "        text-align: right;\n",
       "    }\n",
       "</style>\n",
       "<table border=\"1\" class=\"dataframe\">\n",
       "  <thead>\n",
       "    <tr style=\"text-align: right;\">\n",
       "      <th></th>\n",
       "      <th>trace_id</th>\n",
       "      <th>trace</th>\n",
       "      <th>client_request_id</th>\n",
       "      <th>state</th>\n",
       "      <th>request_time</th>\n",
       "      <th>execution_duration</th>\n",
       "      <th>request</th>\n",
       "      <th>response</th>\n",
       "      <th>trace_metadata</th>\n",
       "      <th>tags</th>\n",
       "      <th>spans</th>\n",
       "      <th>assessments</th>\n",
       "    </tr>\n",
       "  </thead>\n",
       "  <tbody>\n",
       "    <tr>\n",
       "      <th>0</th>\n",
       "      <td>tr-e9fffec78fe06a9b840e90137fe6132e</td>\n",
       "      <td>{\"info\": {\"trace_id\": \"tr-e9fffec78fe06a9b840e...</td>\n",
       "      <td>thread_M8xCSmNpeCHmFPl0eUEgKfi5</td>\n",
       "      <td>TraceState.OK</td>\n",
       "      <td>1756269415149</td>\n",
       "      <td>9099</td>\n",
       "      <td>{'messages': [{'role': 'user', 'content': 'Wha...</td>\n",
       "      <td>{'messages': [{'role': 'assistant', 'content':...</td>\n",
       "      <td>{'mlflow.source.git.commit': 'f46d2c154c81f3ea...</td>\n",
       "      <td>{'mlflow.artifactLocation': 'dbfs:/databricks/...</td>\n",
       "      <td>[{'trace_id': '6f/+x4/gapuEDpATf+YTLg==', 'spa...</td>\n",
       "      <td>[]</td>\n",
       "    </tr>\n",
       "    <tr>\n",
       "      <th>1</th>\n",
       "      <td>tr-2d992b0a474c63563de51d064ec83817</td>\n",
       "      <td>{\"info\": {\"trace_id\": \"tr-2d992b0a474c63563de5...</td>\n",
       "      <td>thread_mESfDO8fIDWEATF9G2dmaDUk</td>\n",
       "      <td>TraceState.OK</td>\n",
       "      <td>1756268267832</td>\n",
       "      <td>8061</td>\n",
       "      <td>{'messages': [{'role': 'user', 'content': 'Wha...</td>\n",
       "      <td>{'messages': [{'role': 'assistant', 'content':...</td>\n",
       "      <td>{'mlflow.source.git.commit': 'f46d2c154c81f3ea...</td>\n",
       "      <td>{'mlflow.artifactLocation': 'dbfs:/databricks/...</td>\n",
       "      <td>[{'trace_id': 'LZkrCkdMY1Y95R0GTsg4Fw==', 'spa...</td>\n",
       "      <td>[{'assessment_id': 'a-a1083f7f0bab4ccb83546ad4...</td>\n",
       "    </tr>\n",
       "    <tr>\n",
       "      <th>2</th>\n",
       "      <td>tr-a4c4bbbd91bbcf7f913985662c1c6385</td>\n",
       "      <td>{\"info\": {\"trace_id\": \"tr-a4c4bbbd91bbcf7f9139...</td>\n",
       "      <td>thread_FWbiBExYTbueu5CtBvDSGxMs</td>\n",
       "      <td>TraceState.OK</td>\n",
       "      <td>1756268212396</td>\n",
       "      <td>11390</td>\n",
       "      <td>{'messages': [{'role': 'user', 'content': 'Wha...</td>\n",
       "      <td>{'messages': [{'role': 'assistant', 'content':...</td>\n",
       "      <td>{'mlflow.source.git.commit': 'f46d2c154c81f3ea...</td>\n",
       "      <td>{'mlflow.artifactLocation': 'dbfs:/databricks/...</td>\n",
       "      <td>[{'trace_id': 'pMS7vZG7z3+ROYVmLBxjhQ==', 'spa...</td>\n",
       "      <td>[]</td>\n",
       "    </tr>\n",
       "  </tbody>\n",
       "</table>\n",
       "</div>"
      ],
      "text/plain": [
       "                              trace_id  \\\n",
       "0  tr-e9fffec78fe06a9b840e90137fe6132e   \n",
       "1  tr-2d992b0a474c63563de51d064ec83817   \n",
       "2  tr-a4c4bbbd91bbcf7f913985662c1c6385   \n",
       "\n",
       "                                               trace  \\\n",
       "0  {\"info\": {\"trace_id\": \"tr-e9fffec78fe06a9b840e...   \n",
       "1  {\"info\": {\"trace_id\": \"tr-2d992b0a474c63563de5...   \n",
       "2  {\"info\": {\"trace_id\": \"tr-a4c4bbbd91bbcf7f9139...   \n",
       "\n",
       "                 client_request_id          state   request_time  \\\n",
       "0  thread_M8xCSmNpeCHmFPl0eUEgKfi5  TraceState.OK  1756269415149   \n",
       "1  thread_mESfDO8fIDWEATF9G2dmaDUk  TraceState.OK  1756268267832   \n",
       "2  thread_FWbiBExYTbueu5CtBvDSGxMs  TraceState.OK  1756268212396   \n",
       "\n",
       "   execution_duration                                            request  \\\n",
       "0                9099  {'messages': [{'role': 'user', 'content': 'Wha...   \n",
       "1                8061  {'messages': [{'role': 'user', 'content': 'Wha...   \n",
       "2               11390  {'messages': [{'role': 'user', 'content': 'Wha...   \n",
       "\n",
       "                                            response  \\\n",
       "0  {'messages': [{'role': 'assistant', 'content':...   \n",
       "1  {'messages': [{'role': 'assistant', 'content':...   \n",
       "2  {'messages': [{'role': 'assistant', 'content':...   \n",
       "\n",
       "                                      trace_metadata  \\\n",
       "0  {'mlflow.source.git.commit': 'f46d2c154c81f3ea...   \n",
       "1  {'mlflow.source.git.commit': 'f46d2c154c81f3ea...   \n",
       "2  {'mlflow.source.git.commit': 'f46d2c154c81f3ea...   \n",
       "\n",
       "                                                tags  \\\n",
       "0  {'mlflow.artifactLocation': 'dbfs:/databricks/...   \n",
       "1  {'mlflow.artifactLocation': 'dbfs:/databricks/...   \n",
       "2  {'mlflow.artifactLocation': 'dbfs:/databricks/...   \n",
       "\n",
       "                                               spans  \\\n",
       "0  [{'trace_id': '6f/+x4/gapuEDpATf+YTLg==', 'spa...   \n",
       "1  [{'trace_id': 'LZkrCkdMY1Y95R0GTsg4Fw==', 'spa...   \n",
       "2  [{'trace_id': 'pMS7vZG7z3+ROYVmLBxjhQ==', 'spa...   \n",
       "\n",
       "                                         assessments  \n",
       "0                                                 []  \n",
       "1  [{'assessment_id': 'a-a1083f7f0bab4ccb83546ad4...  \n",
       "2                                                 []  "
      ]
     },
     "execution_count": 196,
     "metadata": {},
     "output_type": "execute_result"
    }
   ],
   "source": [
    "# search a user's previous threads\n",
    "previous_threads =mlflow.search_traces(\n",
    "    experiment_ids=[experiment.experiment_id],\n",
    "    order_by=['timestamp DESC'],\n",
    "    filter_string=f\"metadata.mlflow.trace.user = '{user_name}'\",\n",
    "    max_results=3\n",
    ")\n",
    "\n",
    "previous_threads"
   ]
  },
  {
   "cell_type": "code",
   "execution_count": 197,
   "id": "afc4636a",
   "metadata": {},
   "outputs": [],
   "source": [
    "# retrieve the mlflow trace id for feedback\n",
    "thread_id = result['attributes']['thread_id']\n",
    "\n",
    "# get the specific trace\n",
    "mlflow_trace_id =mlflow.search_traces(\n",
    "    experiment_ids=[experiment.experiment_id],\n",
    "    order_by=['timestamp DESC'],\n",
    "    filter_string=f\"metadata.mlflow.trace.session = '{thread_id}'\",\n",
    "    max_results=3\n",
    ").iloc[0].trace_id"
   ]
  },
  {
   "cell_type": "markdown",
   "id": "60bc9dba",
   "metadata": {},
   "source": [
    "Once we have the trace ID, adding Human feedback with our application is straightforward - see an example of a boolean (thumbs up/down), a numeric score, and [LLM evaluation](https://mlflow.org/docs/2.21.3/llms/llm-evaluate/notebooks/question-answering-evaluation#custom-llm-judged-metric-for-professionalism).\n",
    "\n",
    "We can also set [expectations](https://mlflow.org/docs/latest/genai/assessments/expectations/#types-of-expectations). This can be very useful for the future if we want to use something like [DsPy and MLfLow to optimize our prompts](https://mlflow.org/docs/latest/genai/prompt-registry/optimize-prompts/)."
   ]
  },
  {
   "cell_type": "code",
   "execution_count": null,
   "id": "5155eed4",
   "metadata": {},
   "outputs": [
    {
     "data": {
      "text/plain": [
       "Feedback(name='llm_evaluation', source=AssessmentSource(source_type='LLM_JUDGE', source_id='GPT-5'), trace_id='tr-e9fffec78fe06a9b840e90137fe6132e', run_id=None, rationale='Not as good as I could have done', metadata=None, span_id=None, create_time_ms=1756269565921, last_update_time_ms=1756269565921, assessment_id='a-0e4280febbda41eea6699030bd334d6b', error=None, expectation=None, feedback=FeedbackValue(value=0.3, error=None), overrides=None, valid=True)"
      ]
     },
     "execution_count": 198,
     "metadata": {},
     "output_type": "execute_result"
    }
   ],
   "source": [
    "import mlflow\n",
    "from mlflow.entities import AssessmentSource, AssessmentSourceType\n",
    "\n",
    "# thumbs up/down button\n",
    "mlflow.log_feedback(\n",
    "    trace_id=mlflow_trace_id,\n",
    "    name=\"user_satisfaction\",\n",
    "        value=True,\n",
    "        source=AssessmentSource(\n",
    "            source_type=AssessmentSourceType.HUMAN, source_id=user_name\n",
    "        ),\n",
    "    )\n",
    "\n",
    "# numeric score\n",
    "mlflow.log_feedback(\n",
    "    trace_id=mlflow_trace_id,\n",
    "    name=\"relevance\",\n",
    "    value=0.9,\n",
    "    source=AssessmentSource(\n",
    "        source_type=AssessmentSourceType.HUMAN, source_id=user_name\n",
    "    ),\n",
    "    rationale=\"High accuracy and clarity, slightly incomplete coverage\",\n",
    ")\n",
    "\n",
    "# llm evaluation (could be done with a job)\n",
    "mlflow.log_feedback(\n",
    "    trace_id=mlflow_trace_id,\n",
    "    name=\"llm_evaluation\",\n",
    "    value=0.3,\n",
    "    source=AssessmentSource(\n",
    "        source_type=AssessmentSourceType.LLM_JUDGE, source_id='GPT-5'\n",
    "    ),\n",
    "    rationale=\"Not as good as I could have done\",\n",
    ")"
   ]
  },
  {
   "cell_type": "code",
   "execution_count": 199,
   "id": "1b2b321b",
   "metadata": {},
   "outputs": [
    {
     "data": {
      "text/plain": [
       "Expectation(name='expected_behavior', source=AssessmentSource(source_type='HUMAN', source_id='scott.mckean@databricks.com'), trace_id='tr-e9fffec78fe06a9b840e90137fe6132e', run_id=None, rationale=None, metadata=None, span_id=None, create_time_ms=1756270787382, last_update_time_ms=1756270787382, assessment_id='a-80ac5b0169bb493bb18d60b1e96b5485', error=None, expectation=ExpectationValue(value={'should_escalate': True, 'required_elements': ['empathy', 'solution_offer', 'follow_up'], 'max_response_length': 150, 'tone': 'professional_friendly'}), feedback=None, overrides=None, valid=None)"
      ]
     },
     "execution_count": 199,
     "metadata": {},
     "output_type": "execute_result"
    }
   ],
   "source": [
    "mlflow.log_expectation(\n",
    "    trace_id=mlflow_trace_id,\n",
    "    name=\"expected_behavior\",\n",
    "    value={\n",
    "        \"should_escalate\": True,\n",
    "        \"required_elements\": [\"empathy\", \"solution_offer\", \"follow_up\"],\n",
    "        \"max_response_length\": 150,\n",
    "        \"tone\": \"professional_friendly\",\n",
    "    },\n",
    "    source=AssessmentSource(\n",
    "        source_type=AssessmentSourceType.HUMAN,\n",
    "        source_id=user_name,\n",
    "    ),\n",
    ")"
   ]
  }
 ],
 "metadata": {
  "kernelspec": {
   "display_name": ".venv",
   "language": "python",
   "name": "python3"
  },
  "language_info": {
   "codemirror_mode": {
    "name": "ipython",
    "version": 3
   },
   "file_extension": ".py",
   "mimetype": "text/x-python",
   "name": "python",
   "nbconvert_exporter": "python",
   "pygments_lexer": "ipython3",
   "version": "3.12.3"
  }
 },
 "nbformat": 4,
 "nbformat_minor": 5
}
