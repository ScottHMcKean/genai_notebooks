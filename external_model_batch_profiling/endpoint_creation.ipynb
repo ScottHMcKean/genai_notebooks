{
 "cells": [
  {
   "cell_type": "markdown",
   "metadata": {
    "application/vnd.databricks.v1+cell": {
     "cellMetadata": {},
     "inputWidgets": {},
     "nuid": "faa33039-f28d-47c4-840d-f3ea5626c11f",
     "showTitle": false,
     "tableResultSettingsMap": {},
     "title": ""
    }
   },
   "source": [
    "# Les Misér-AI-bles: Batching Through the Barricades\n",
    "## Endpoint Creation\n",
    "This notebook creates serving endpoints for testing using Azure OpenAI"
   ]
  },
  {
   "cell_type": "code",
   "execution_count": 0,
   "metadata": {
    "application/vnd.databricks.v1+cell": {
     "cellMetadata": {
      "byteLimit": 2048000,
      "rowLimit": 10000
     },
     "inputWidgets": {},
     "nuid": "d16eb724-d135-45f3-a253-7210c46a18f2",
     "showTitle": false,
     "tableResultSettingsMap": {},
     "title": ""
    }
   },
   "outputs": [],
   "source": [
    "import mlflow\n",
    "from mlflow.deployments import get_deploy_client\n",
    "client = get_deploy_client(\"databricks\")"
   ]
  },
  {
   "cell_type": "code",
   "execution_count": 0,
   "metadata": {
    "application/vnd.databricks.v1+cell": {
     "cellMetadata": {
      "byteLimit": 2048000,
      "rowLimit": 10000
     },
     "inputWidgets": {},
     "nuid": "08926463-6897-44b1-bec8-a8e3fd8f45c0",
     "showTitle": false,
     "tableResultSettingsMap": {},
     "title": ""
    }
   },
   "outputs": [],
   "source": [
    "def create_openai_endpoint(\n",
    "  endpoint_name:str, \n",
    "  external_model_name: str, \n",
    "  secret_key=\"{{secrets/shm/gpt4o}}\"\n",
    "  ):\n",
    "\n",
    "  try:\n",
    "    client.get_endpoint(endpoint_name)\n",
    "    client.delete_endpoint(endpoint_name)\n",
    "    print(f\"deleted existing endpoint: {endpoint_name}\")\n",
    "  except Exception as e:\n",
    "    pass\n",
    "\n",
    "  endpoint = client.create_endpoint(\n",
    "      name=endpoint_name,\n",
    "      config={\n",
    "          \"served_entities\": [\n",
    "              {\n",
    "                  \"external_model\": {\n",
    "                      \"name\": external_model_name,\n",
    "                      \"provider\": \"openai\",\n",
    "                      \"task\": \"llm/v1/chat\",\n",
    "                      \"openai_config\": {\n",
    "                          \"openai_api_key\": secret_key,\n",
    "                      },\n",
    "                  }\n",
    "              }\n",
    "          ],\n",
    "          \"route_optimized\": True,\n",
    "      }\n",
    "  )\n",
    "  print(f\"{endpoint['name']} created\")"
   ]
  },
  {
   "cell_type": "code",
   "execution_count": 0,
   "metadata": {
    "application/vnd.databricks.v1+cell": {
     "cellMetadata": {
      "byteLimit": 2048000,
      "rowLimit": 10000
     },
     "inputWidgets": {},
     "nuid": "43dbc209-db76-4b75-b063-f9c2281afaf8",
     "showTitle": false,
     "tableResultSettingsMap": {},
     "title": ""
    }
   },
   "outputs": [],
   "source": [
    "endpoints = {\n",
    "  \"azure-gpt-4o-mini\": \"gpt-4o-mini\",\n",
    "  \"azure-gpt-4o\": \"gpt-4o\",\n",
    "  \"azure-o1\": \"o1\",\n",
    "}\n",
    "\n",
    "for endpoint_name, openai_model_name in endpoints.items(): \n",
    "  create_openai_endpoint(\n",
    "    endpoint_name, \n",
    "    openai_model_name,\n",
    "    secret_key=\"{{secrets/shm/gpt4o}}\"\n",
    "    )"
   ]
  }
 ],
 "metadata": {
  "application/vnd.databricks.v1+notebook": {
   "computePreferences": null,
   "dashboards": [],
   "environmentMetadata": {
    "base_environment": "",
    "environment_version": "2"
   },
   "inputWidgetPreferences": null,
   "language": "python",
   "notebookMetadata": {
    "pythonIndentUnit": 2
   },
   "notebookName": "endpoint_creation",
   "widgets": {}
  },
  "language_info": {
   "name": "python"
  }
 },
 "nbformat": 4,
 "nbformat_minor": 0
}
