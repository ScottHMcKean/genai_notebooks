{
 "cells": [
  {
   "cell_type": "code",
   "execution_count": 0,
   "metadata": {
    "application/vnd.databricks.v1+cell": {
     "cellMetadata": {},
     "inputWidgets": {},
     "nuid": "6971343f-9256-4272-8053-997d949fc256",
     "showTitle": false,
     "tableResultSettingsMap": {},
     "title": ""
    }
   },
   "outputs": [],
   "source": [
    "SELECT review, ai_query(\n",
    "  'databricks-meta-llama-3-3-70b-instruct',\n",
    "  concat(\n",
    "    'Generate a single witty marketing slogan that responds to this review with local flavour and appeal based on the location without stereotyping',\n",
    "    'Only respond with the marketing slogan',\n",
    "    ' Here is the review: ', \n",
    "    review,\n",
    "    'This is the location: ', \n",
    "    location\n",
    "    )\n",
    "  ) AS marketing_slogan\n",
    "FROM shm.default.extracted_location_data"
   ]
  }
 ],
 "metadata": {
  "application/vnd.databricks.v1+notebook": {
   "computePreferences": null,
   "dashboards": [],
   "environmentMetadata": null,
   "inputWidgetPreferences": null,
   "language": "sql",
   "notebookMetadata": {
    "sqlQueryOptions": {
     "applyAutoLimit": true,
     "catalog": "hive_metastore",
     "schema": "default"
    }
   },
   "notebookName": "slogan.dbquery.ipynb",
   "widgets": {}
  },
  "language_info": {
   "name": "sql"
  }
 },
 "nbformat": 4,
 "nbformat_minor": 0
}
