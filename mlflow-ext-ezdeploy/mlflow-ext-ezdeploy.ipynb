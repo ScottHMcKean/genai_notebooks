{
 "cells": [
  {
   "cell_type": "code",
   "execution_count": 0,
   "metadata": {
    "application/vnd.databricks.v1+cell": {
     "cellMetadata": {
      "byteLimit": 2048000,
      "rowLimit": 10000
     },
     "inputWidgets": {},
     "nuid": "7f095054-13f6-47be-bc39-dca7119b50a2",
     "showTitle": false,
     "tableResultSettingsMap": {},
     "title": ""
    }
   },
   "outputs": [],
   "source": [
    "%pip install mlflow-extensions\n",
    "%pip install -U mlflow\n",
    "%restart_python"
   ]
  },
  {
   "cell_type": "code",
   "execution_count": 0,
   "metadata": {
    "application/vnd.databricks.v1+cell": {
     "cellMetadata": {
      "byteLimit": 2048000,
      "rowLimit": 10000
     },
     "inputWidgets": {},
     "nuid": "6b8c76e8-9506-4573-8097-7d30a024017f",
     "showTitle": false,
     "tableResultSettingsMap": {},
     "title": ""
    }
   },
   "outputs": [],
   "source": [
    "from mlflow_extensions.databricks.prebuilt import prebuilt\n",
    "from mlflow_extensions.databricks.deploy.ez_deploy import EzDeploy\n",
    "\n",
    "deployer = EzDeploy(\n",
    "  config=prebuilt.vision.vllm.PHI_3_5_VISION_INSTRUCT_12K,\n",
    "  registered_model_name=\"shm.default.phi_3_5_vision_instruct_12k\"\n",
    ")"
   ]
  },
  {
   "cell_type": "code",
   "execution_count": 0,
   "metadata": {
    "application/vnd.databricks.v1+cell": {
     "cellMetadata": {
      "byteLimit": 2048000,
      "rowLimit": 10000
     },
     "inputWidgets": {},
     "nuid": "ac4dcea7-7a12-4a3b-b294-20bfbe23eaa1",
     "showTitle": false,
     "tableResultSettingsMap": {},
     "title": ""
    }
   },
   "outputs": [],
   "source": [
    "deployer.download()"
   ]
  },
  {
   "cell_type": "code",
   "execution_count": 0,
   "metadata": {
    "application/vnd.databricks.v1+cell": {
     "cellMetadata": {
      "byteLimit": 2048000,
      "rowLimit": 10000
     },
     "inputWidgets": {},
     "nuid": "96928ef8-49b7-4cdd-83f8-cb238cbc2e59",
     "showTitle": false,
     "tableResultSettingsMap": {},
     "title": ""
    }
   },
   "outputs": [],
   "source": [
    "deployer.register()"
   ]
  },
  {
   "cell_type": "code",
   "execution_count": 0,
   "metadata": {
    "application/vnd.databricks.v1+cell": {
     "cellMetadata": {
      "byteLimit": 2048000,
      "rowLimit": 10000
     },
     "inputWidgets": {},
     "nuid": "cec49316-d2bb-4cd1-966c-fce74dbe8a8d",
     "showTitle": false,
     "tableResultSettingsMap": {},
     "title": ""
    }
   },
   "outputs": [],
   "source": [
    "endpoint_name = \"sri_phi_3_5_vision_instruct_vllm\"\n",
    "deployer.deploy(endpoint_name)"
   ]
  },
  {
   "cell_type": "markdown",
   "metadata": {
    "application/vnd.databricks.v1+cell": {
     "cellMetadata": {},
     "inputWidgets": {},
     "nuid": "10059434-7193-47d9-89ac-c72c0675aab6",
     "showTitle": false,
     "tableResultSettingsMap": {},
     "title": ""
    }
   },
   "source": [
    "WAIT FOR MODEL TO DEPLOY"
   ]
  },
  {
   "cell_type": "code",
   "execution_count": 0,
   "metadata": {
    "application/vnd.databricks.v1+cell": {
     "cellMetadata": {
      "byteLimit": 2048000,
      "rowLimit": 10000
     },
     "inputWidgets": {},
     "nuid": "f8b92ed0-6acb-43fe-a7d9-10923978b341",
     "showTitle": false,
     "tableResultSettingsMap": {},
     "title": ""
    }
   },
   "outputs": [],
   "source": [
    "import json, requests, os\n",
    "input_example = {\"inputs\":{\"messages\":[{\"role\": \"user\", \n",
    "    \"content\": [\n",
    "                {\"type\": \"text\", \"text\": \"Is the image indoors or outdoors?\"},\n",
    "                {\n",
    "                    \"type\": \"image_url\",\n",
    "                    \"image_url\": {\n",
    "                      \"url\": \"https://upload.wikimedia.org/wikipedia/commons/thumb/d/dd/Gfp-wisconsin-madison-the-nature-boardwalk.jpg/2560px-Gfp-wisconsin-madison-the-nature-boardwalk.jpg\"\n",
    "                    },\n",
    "                },\n",
    "            ],\n",
    "    }]}}\n",
    "url = 'https://adb-984752964297111.11.azuredatabricks.net/serving-endpoints/sri_phi_3_5_vision_instruct_vllm/invocations'\n",
    "headers = {'Authorization': f'Bearer {token}', 'Content-Type': 'application/json'}\n",
    "data_json = json.dumps(input_example, allow_nan=True)\n",
    "response = requests.request(method='POST', headers=headers, url=url, data=data_json)"
   ]
  },
  {
   "cell_type": "code",
   "execution_count": 0,
   "metadata": {
    "application/vnd.databricks.v1+cell": {
     "cellMetadata": {
      "byteLimit": 2048000,
      "rowLimit": 10000
     },
     "inputWidgets": {},
     "nuid": "5cc05870-1ffd-4b5c-a176-a585bca3a19f",
     "showTitle": false,
     "tableResultSettingsMap": {},
     "title": ""
    }
   },
   "outputs": [],
   "source": [
    "response.content"
   ]
  },
  {
   "cell_type": "code",
   "execution_count": 0,
   "metadata": {
    "application/vnd.databricks.v1+cell": {
     "cellMetadata": {
      "byteLimit": 2048000,
      "rowLimit": 10000
     },
     "inputWidgets": {},
     "nuid": "b85532b7-cfe6-4be7-aacf-3779fea6551b",
     "showTitle": false,
     "tableResultSettingsMap": {},
     "title": ""
    }
   },
   "outputs": [],
   "source": [
    "\n",
    "from mlflow_extensions.serving.compat.openai import OpenAI\n",
    "from mlflow.utils.databricks_utils import get_databricks_host_creds\n",
    "\n",
    "workspace_host = spark.conf.get(\"spark.databricks.workspaceUrl\")\n",
    "endpoint_name = f\"https://{workspace_host}/serving-endpoints/{endpoint_name}/invocations\"\n",
    "token = dbutils.notebook.entry_point.getDbutils().notebook().getContext().apiToken().get()\n",
    "\n",
    "\n",
    "\n",
    "\n",
    "\n",
    "# COMMAND ----------\n",
    "\n",
    "client = OpenAI(\n",
    "  base_url=endpoint_name,\n",
    "  api_key=token\n",
    ")\n",
    "\n",
    "# COMMAND ----------\n",
    "\n",
    "# Try this if you want to do guided decoding\n",
    "# from pydantic import BaseModel\n",
    "\n",
    "# class ExpectedJson(BaseModel):\n",
    "#     outside: bool\n",
    "#     inside: bool\n",
    "#     boardwalk: bool\n",
    "#     grass: bool\n",
    "\n",
    "# while True:\n",
    "response = client.chat.completions.create(\n",
    "  model='Phi-3.5-vision-instruct',\n",
    "  messages=[\n",
    "    {\"role\": \"user\", \n",
    "    \"content\": [\n",
    "                {\"type\": \"text\", \"text\": \"Is the image indoors or outdoors?\"},\n",
    "                {\n",
    "                    \"type\": \"image_url\",\n",
    "                    \"image_url\": {\n",
    "                      \"url\": \"https://upload.wikimedia.org/wikipedia/commons/thumb/d/dd/Gfp-wisconsin-madison-the-nature-boardwalk.jpg/2560px-Gfp-wisconsin-madison-the-nature-boardwalk.jpg\"\n",
    "                    },\n",
    "                },\n",
    "            ],\n",
    "    }\n",
    "  ],\n",
    "  # extra_body={\n",
    "  #   \"guided_choice\": [\"outside\", \"indoors\"]\n",
    "  # }\n",
    "  # extra_body={\n",
    "  #   \"guided_json\": ExpectedJson.schema()\n",
    "  # }\n",
    ")\n",
    "\n",
    "response.choices[0].message.content.strip()\n",
    "\n",
    "# COMMAND ----------\n",
    "\n"
   ]
  }
 ],
 "metadata": {
  "application/vnd.databricks.v1+notebook": {
   "computePreferences": null,
   "dashboards": [],
   "environmentMetadata": {
    "base_environment": "",
    "environment_version": "2"
   },
   "language": "python",
   "notebookMetadata": {
    "pythonIndentUnit": 2
   },
   "notebookName": "mlflow-ext-ezdeploy",
   "widgets": {}
  },
  "language_info": {
   "name": "python"
  }
 },
 "nbformat": 4,
 "nbformat_minor": 0
}
