{
 "cells": [
  {
   "cell_type": "code",
   "execution_count": 1,
   "id": "0d5453fb",
   "metadata": {},
   "outputs": [
    {
     "name": "stdout",
     "output_type": "stream",
     "text": [
      "{'status': 'OK', 'timestamp': '2025-08-13T16:16:54.763493+00:00'}\n"
     ]
    }
   ],
   "source": [
    "# LOCAL TEST\n",
    "import requests\n",
    "\n",
    "BASE_URL = \"http://127.0.0.1:8000\"\n",
    "\n",
    "print(requests.get(f\"{BASE_URL}/api/v1/healthcheck\").json())"
   ]
  },
  {
   "cell_type": "code",
   "execution_count": 9,
   "id": "b56f6ee2",
   "metadata": {},
   "outputs": [],
   "source": [
    "# Evaluate\n",
    "payload = {\n",
    "    \"user_message\": \"What is the capital of France?\",\n",
    "    \"chat_history\": [\n",
    "        {\"role\": \"user\", \"content\": \"Hi\"},\n",
    "        {\"role\": \"assistant\", \"content\": \"The capital of Canada is Ottawa\"},\n",
    "    ],\n",
    "}\n",
    "resp = requests.post(f\"{BASE_URL}/api/v1/evaluate\", json=payload, timeout=60)\n"
   ]
  },
  {
   "cell_type": "code",
   "execution_count": 12,
   "id": "06b3de49",
   "metadata": {},
   "outputs": [
    {
     "name": "stdout",
     "output_type": "stream",
     "text": [
      "<Response [200]>\n"
     ]
    }
   ],
   "source": [
    "# APP TEST\n",
    "from databricks.sdk.core import Config\n",
    "import requests\n",
    "\n",
    "config = Config(profile=\"DEFAULT\")\n",
    "token = config.oauth_token().access_token\n",
    "\n",
    "session = requests.Session()\n",
    "session.headers.update({\n",
    "    \"Authorization\": f\"Bearer {token}\",\n",
    "    \"Accept\": \"application/json\",\n",
    "    \"Content-Type\": \"application/json\",\n",
    "})\n",
    "\n",
    "BASE_URL = \"https://shm-chatbot-auth-test-delete-984752964297111.11.azure.databricksapps.com\"\n",
    "\n",
    "response = session.get(\n",
    "    f\"{BASE_URL}/api/v1/healthcheck\", \n",
    "    allow_redirects=False)\n",
    "\n",
    "print(response)"
   ]
  }
 ],
 "metadata": {
  "kernelspec": {
   "display_name": ".venv",
   "language": "python",
   "name": "python3"
  },
  "language_info": {
   "codemirror_mode": {
    "name": "ipython",
    "version": 3
   },
   "file_extension": ".py",
   "mimetype": "text/x-python",
   "name": "python",
   "nbconvert_exporter": "python",
   "pygments_lexer": "ipython3",
   "version": "3.12.3"
  }
 },
 "nbformat": 4,
 "nbformat_minor": 5
}
