{
 "cells": [
  {
   "cell_type": "code",
   "execution_count": 0,
   "metadata": {
    "application/vnd.databricks.v1+cell": {
     "cellMetadata": {},
     "inputWidgets": {},
     "nuid": "5f1f6e0c-88c3-4b9d-9596-baea6565ca99",
     "showTitle": false,
     "tableResultSettingsMap": {},
     "title": ""
    }
   },
   "outputs": [],
   "source": [
    "-- Goal: breakdown LLM endpoint by job or user\n",
    "-- Usage is hourly, so we will need to window by hour and divide jobs by that\n",
    "\n",
    "-- System Tables\n",
    "-- https://docs.databricks.com/en/admin/system-tables/index.html\n",
    "\n",
    "-- DBU USAGE (start here)\n",
    "SELECT *\n",
    "FROM system.billing.usage\n",
    "WHERE usage_metadata.endpoint_id = '47b0bc29-7934-4613-bf35-daa897a9ca32'\n",
    "LIMIT 10;\n",
    "\n",
    "-- Hourly Endpoint Usage\n",
    "SELECT \n",
    "    WINDOW(request_time, \"1 hour\").start as hourly_window_start,\n",
    "    FIRST(requester) as requester,\n",
    "    FIRST(served_entity_id) as served_entity_id,\n",
    "    SUM(input_token_count + output_token_count) as total_tokens,\n",
    "    SUM(input_character_count + output_character_count) AS total_chars\n",
    "FROM system.serving.endpoint_usage\n",
    "WHERE served_entity_id = '47b0bc29-7934-4613-bf35-daa897a9ca32'\n",
    "GROUP BY WINDOW(request_time, \"1 hour\"), requester, served_entity_id\n",
    "\n",
    "\n",
    "\n",
    "SELECT * FROM system.billing.usage LIMIT 10\n",
    "\n",
    "-- MODEL CALLS - use requester\n",
    "\n",
    "\n",
    "SELECT * FROM system.serving.endpoint_usage LIMIT 10\n",
    "\n",
    "\n",
    "-- JOB ID\n",
    "-- https://docs.databricks.com/en/admin/system-tables/billing.html#identity-metadata\n",
    "-- Use this to ID who called it\n",
    "SELECT distinct(run_as) FROM system.lakeflow.jobs LIMIT 100\n",
    "\n",
    "SELECT * FROM system.access.audit LIMIT 10\n",
    "\n",
    "SELECT DISTINCT\n",
    "  user_identity.email AS user_email,\n",
    "  request_id AS requester_id\n",
    "FROM system.access.audit\n",
    "WHERE user_identity.email IS NOT NULL\n",
    "  AND request_id IS NOT NULL\n",
    "\n",
    "-- job_id = 444895512554705\n",
    "SELECT * FROM system.lakeflow.job_run_timeline LIMIT 10\n",
    "\n",
    "-- find service principal or user that owns job\n",
    "\n"
   ]
  }
 ],
 "metadata": {
  "application/vnd.databricks.v1+notebook": {
   "computePreferences": null,
   "dashboards": [],
   "environmentMetadata": null,
   "inputWidgetPreferences": null,
   "language": "sql",
   "notebookMetadata": {
    "sqlQueryOptions": {
     "applyAutoLimit": true,
     "catalog": "system",
     "schema": "billing"
    }
   },
   "notebookName": "llm billing.dbquery.ipynb",
   "widgets": {}
  },
  "language_info": {
   "name": "sql"
  }
 },
 "nbformat": 4,
 "nbformat_minor": 0
}
