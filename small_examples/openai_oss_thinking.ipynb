{
 "cells": [
  {
   "cell_type": "code",
   "execution_count": 0,
   "metadata": {
    "application/vnd.databricks.v1+cell": {
     "cellMetadata": {
      "byteLimit": 2048000,
      "rowLimit": 10000
     },
     "inputWidgets": {},
     "nuid": "4b84fd4f-bb76-4826-91ad-925342e5d4ff",
     "showTitle": false,
     "tableResultSettingsMap": {},
     "title": ""
    }
   },
   "outputs": [],
   "source": [
    "puzzle = \"\"\"\n",
    "Four hikers (Ava, Ben, Ilya, Noor) each returned at a different time (6:10, 6:20, 6:30, 6:40 PM) to a different cabin (Cedar, Birch, Spruce, Aspen) carrying a different item (Compass, Journal, Lantern, Map). Determine who returned when, to which cabin, and with what.\n",
    "Clues:\n",
    "1) The person who returned at 6:20 went to Cedar, but did not carry the Lantern.\n",
    "2) Noor didn’t go to Aspen and didn’t carry the Map.\n",
    "3) Ava returned 10 minutes before the person who went to Birch.\n",
    "4) The Compass carrier returned later than Ilya but earlier than the person headed to Spruce.\n",
    "5) Ben went to Birch.\n",
    "6) The Journal wasn’t taken to Cedar.\n",
    "7) The person who went to Spruce returned 10 minutes after the Lantern carrier.\n",
    "8) Ilya returned at 6:10 or 6:20.\n",
    "\n",
    "Expected answer format:\n",
    "6:10 — Person — Cabin — Item\n",
    "6:20 — Person — Cabin — Item\n",
    "6:30 — Person — Cabin — Item\n",
    "6:40 — Person — Cabin — Item\n",
    "\"\"\""
   ]
  },
  {
   "cell_type": "code",
   "execution_count": 0,
   "metadata": {
    "application/vnd.databricks.v1+cell": {
     "cellMetadata": {},
     "inputWidgets": {},
     "nuid": "d1c4848b-13ff-4c5a-92aa-8dc387b791aa",
     "showTitle": false,
     "tableResultSettingsMap": {},
     "title": ""
    }
   },
   "outputs": [],
   "source": [
    "\"\"\"\n",
    "Answer key:\n",
    "6:10 — Ilya — Aspen — Map\n",
    "6:20 — Ava — Cedar — Compass\n",
    "6:30 — Ben — Birch — Lantern\n",
    "6:40 — Noor — Spruce — Journal\n",
    "\"\"\""
   ]
  },
  {
   "cell_type": "code",
   "execution_count": 0,
   "metadata": {
    "application/vnd.databricks.v1+cell": {
     "cellMetadata": {
      "byteLimit": 2048000,
      "rowLimit": 10000
     },
     "inputWidgets": {},
     "nuid": "59a6a6ec-61e1-463e-a89e-888447e2b5c6",
     "showTitle": false,
     "tableResultSettingsMap": {},
     "title": ""
    }
   },
   "outputs": [],
   "source": [
    "from databricks_langchain import ChatDatabricks\n",
    "\n",
    "llm = ChatDatabricks(\n",
    "    model=\"databricks-gpt-oss-120b\",\n",
    "    extra_params={\n",
    "        \"reasoning_effort\": \"low\"\n",
    "    }\n",
    "    )\n",
    "\n",
    "response = llm.invoke(puzzle)"
   ]
  },
  {
   "cell_type": "code",
   "execution_count": 0,
   "metadata": {
    "application/vnd.databricks.v1+cell": {
     "cellMetadata": {},
     "inputWidgets": {},
     "nuid": "f007a64c-22da-4374-9d4d-abdfec058d10",
     "showTitle": false,
     "tableResultSettingsMap": {},
     "title": ""
    }
   },
   "outputs": [],
   "source": [
    "from pprint import pprint\n",
    "pprint(response.content[0]['summary'][0]['text'])"
   ]
  },
  {
   "cell_type": "code",
   "execution_count": 0,
   "metadata": {
    "application/vnd.databricks.v1+cell": {
     "cellMetadata": {},
     "inputWidgets": {},
     "nuid": "fa36d02d-098d-4297-992f-947ef50007eb",
     "showTitle": false,
     "tableResultSettingsMap": {},
     "title": ""
    }
   },
   "outputs": [],
   "source": [
    "from openai import OpenAI\n",
    "\n",
    "from databricks.sdk import WorkspaceClient\n",
    "\n",
    "w = WorkspaceClient()\n",
    "workspace_url = w.config.host\n",
    "token = w.config.token\n",
    "\n",
    "client = OpenAI(\n",
    "    base_url=f\"{workspace_url}/serving-endpoints\",\n",
    "    api_key=token\n",
    ")\n",
    "\n",
    "response = client.chat.completions.create(\n",
    "    model=\"databricks-gpt-oss-120b\",\n",
    "    messages=[\n",
    "        {\"role\": \"user\", \"content\": puzzle}\n",
    "    ],\n",
    "    reasoning_effort=\"low\"\n",
    "    )"
   ]
  },
  {
   "cell_type": "code",
   "execution_count": 0,
   "metadata": {
    "application/vnd.databricks.v1+cell": {
     "cellMetadata": {},
     "inputWidgets": {},
     "nuid": "92bac5bd-34e9-44e6-91a1-05c31622f91a",
     "showTitle": false,
     "tableResultSettingsMap": {},
     "title": ""
    }
   },
   "outputs": [],
   "source": [
    "pprint(response.choices[0].message.content[0]['summary'][0]['text'])"
   ]
  }
 ],
 "metadata": {
  "application/vnd.databricks.v1+notebook": {
   "computePreferences": null,
   "dashboards": [],
   "environmentMetadata": null,
   "inputWidgetPreferences": null,
   "language": "python",
   "notebookMetadata": {
    "pythonIndentUnit": 2
   },
   "notebookName": "openai_oss_thinking",
   "widgets": {}
  },
  "kernelspec": {
   "display_name": ".venv",
   "language": "python",
   "name": "python3"
  },
  "language_info": {
   "name": "python"
  }
 },
 "nbformat": 4,
 "nbformat_minor": 0
}
